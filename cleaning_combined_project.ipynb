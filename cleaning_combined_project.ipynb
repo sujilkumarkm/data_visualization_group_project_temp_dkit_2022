{
 "cells": [
  {
   "cell_type": "code",
   "execution_count": 260,
   "metadata": {},
   "outputs": [],
   "source": [
    "import pandas as pd\n",
    "import os\n",
    "import requests\n",
    "import io\n",
    "import numpy as np"
   ]
  },
  {
   "cell_type": "code",
   "execution_count": 261,
   "metadata": {},
   "outputs": [
    {
     "name": "stdout",
     "output_type": "stream",
     "text": [
      "                                                 App        Category  Rating  \\\n",
      "0     Photo Editor & Candy Camera & Grid & ScrapBook  ART_AND_DESIGN     4.1   \n",
      "1                                Coloring book moana  ART_AND_DESIGN     3.9   \n",
      "2  U Launcher Lite – FREE Live Cool Themes, Hide ...  ART_AND_DESIGN     4.7   \n",
      "3                              Sketch - Draw & Paint  ART_AND_DESIGN     4.5   \n",
      "4              Pixel Draw - Number Art Coloring Book  ART_AND_DESIGN     4.3   \n",
      "\n",
      "  Reviews  Size     Installs  Type Price Content Rating  \\\n",
      "0     159   19M      10,000+  Free     0       Everyone   \n",
      "1     967   14M     500,000+  Free     0       Everyone   \n",
      "2   87510  8.7M   5,000,000+  Free     0       Everyone   \n",
      "3  215644   25M  50,000,000+  Free     0           Teen   \n",
      "4     967  2.8M     100,000+  Free     0       Everyone   \n",
      "\n",
      "                      Genres      Last Updated         Current Ver  \\\n",
      "0               Art & Design   January 7, 2018               1.0.0   \n",
      "1  Art & Design;Pretend Play  January 15, 2018               2.0.0   \n",
      "2               Art & Design    August 1, 2018               1.2.4   \n",
      "3               Art & Design      June 8, 2018  Varies with device   \n",
      "4    Art & Design;Creativity     June 20, 2018                 1.1   \n",
      "\n",
      "    Android Ver  \n",
      "0  4.0.3 and up  \n",
      "1  4.0.3 and up  \n",
      "2  4.0.3 and up  \n",
      "3    4.2 and up  \n",
      "4    4.4 and up  \n"
     ]
    }
   ],
   "source": [
    "# Change the directory to your local directory before running the code\n",
    "#os.chdir('D:\\\\DKIT\\\\combined_project\\\\data_visualization_group_project_temp_dkit_2022\\\\')\n",
    "\n",
    "# Downloading the csv file from the GitHub account\n",
    "url = \"https://raw.githubusercontent.com/sujilkumarkm/data_visualization_group_project_temp_dkit_2022/master/googleplaystore.csv\"\n",
    "download = requests.get(url).content\n",
    "\n",
    "# Reading the downloaded content and converting it into a pandas dataframe\n",
    "playstore = pd.read_csv(io.StringIO(download.decode('utf-8')))\n",
    "\n",
    "# Printing out the first 5 rows of the dataframe\n",
    "print (playstore.head())\n"
   ]
  },
  {
   "cell_type": "code",
   "execution_count": 262,
   "metadata": {},
   "outputs": [
    {
     "name": "stdout",
     "output_type": "stream",
     "text": [
      "<class 'pandas.core.frame.DataFrame'>\n",
      "RangeIndex: 10841 entries, 0 to 10840\n",
      "Data columns (total 13 columns):\n",
      " #   Column          Non-Null Count  Dtype  \n",
      "---  ------          --------------  -----  \n",
      " 0   App             10841 non-null  object \n",
      " 1   Category        10841 non-null  object \n",
      " 2   Rating          9367 non-null   float64\n",
      " 3   Reviews         10841 non-null  object \n",
      " 4   Size            10841 non-null  object \n",
      " 5   Installs        10841 non-null  object \n",
      " 6   Type            10840 non-null  object \n",
      " 7   Price           10841 non-null  object \n",
      " 8   Content Rating  10840 non-null  object \n",
      " 9   Genres          10841 non-null  object \n",
      " 10  Last Updated    10841 non-null  object \n",
      " 11  Current Ver     10833 non-null  object \n",
      " 12  Android Ver     10838 non-null  object \n",
      "dtypes: float64(1), object(12)\n",
      "memory usage: 1.1+ MB\n",
      "None\n"
     ]
    }
   ],
   "source": [
    "print(playstore.info())"
   ]
  },
  {
   "cell_type": "code",
   "execution_count": 263,
   "metadata": {},
   "outputs": [],
   "source": [
    "# Changing the column names.\n",
    "playstore.rename(columns = {\"App\":\"app\",\"Category\":\"category\", \"Rating\":\"rating\", \"Reviews\":\"reviews\", \"Size\":\"size\", \"Installs\":\"installs\", \"Type\":\"type\", \"Price\":\"price\", \"Content Rating\":\"content_rating\", \"Genres\":\"genres\",\"Last Updated\":\"last_updated\",\"Current Ver\":\"current_version\",\"Android Ver\":\"android_version\"}, inplace = True)"
   ]
  },
  {
   "cell_type": "code",
   "execution_count": 264,
   "metadata": {},
   "outputs": [
    {
     "name": "stdout",
     "output_type": "stream",
     "text": [
      "<class 'pandas.core.frame.DataFrame'>\n",
      "RangeIndex: 10841 entries, 0 to 10840\n",
      "Data columns (total 13 columns):\n",
      " #   Column           Non-Null Count  Dtype  \n",
      "---  ------           --------------  -----  \n",
      " 0   app              10841 non-null  object \n",
      " 1   category         10841 non-null  object \n",
      " 2   rating           9367 non-null   float64\n",
      " 3   reviews          10841 non-null  object \n",
      " 4   size             10841 non-null  object \n",
      " 5   installs         10841 non-null  object \n",
      " 6   type             10840 non-null  object \n",
      " 7   price            10841 non-null  object \n",
      " 8   content_rating   10840 non-null  object \n",
      " 9   genres           10841 non-null  object \n",
      " 10  last_updated     10841 non-null  object \n",
      " 11  current_version  10833 non-null  object \n",
      " 12  android_version  10838 non-null  object \n",
      "dtypes: float64(1), object(12)\n",
      "memory usage: 1.1+ MB\n",
      "None\n"
     ]
    }
   ],
   "source": [
    "print(playstore.info())"
   ]
  },
  {
   "cell_type": "code",
   "execution_count": 265,
   "metadata": {},
   "outputs": [
    {
     "name": "stdout",
     "output_type": "stream",
     "text": [
      "['4.0.3 and up' '4.2 and up' '4.4 and up' '2.3 and up' '3.0 and up'\n",
      " '4.1 and up' '4.0 and up' '2.3.3 and up' 'Varies with device'\n",
      " '2.2 and up' '5.0 and up' '6.0 and up' '1.6 and up' '1.5 and up'\n",
      " '2.1 and up' '7.0 and up' '5.1 and up' '4.3 and up' '4.0.3 - 7.1.1'\n",
      " '2.0 and up' '3.2 and up' '4.4W and up' '7.1 and up' '7.0 - 7.1.1'\n",
      " '8.0 and up' '5.0 - 8.0' '3.1 and up' '2.0.1 and up' '4.1 - 7.1.1' nan\n",
      " '5.0 - 6.0' '1.0 and up' '2.2 - 7.1.1' '5.0 - 7.1.1']\n"
     ]
    }
   ],
   "source": [
    "print(playstore['android_version'].unique())"
   ]
  },
  {
   "cell_type": "code",
   "execution_count": 266,
   "metadata": {},
   "outputs": [
    {
     "name": "stdout",
     "output_type": "stream",
     "text": [
      "['4.0.3' '4.2' '4.4' '2.3' '3.0' '4.1' '4.0' '2.3.3' 'Varies with device'\n",
      " '2.2' '5.0' '6.0' '1.6' '1.5' '2.1' '7.0' '5.1' '4.3' '2.0' '3.2' '7.1'\n",
      " '8.0' '3.1' '2.0.1' nan '1.0']\n"
     ]
    },
    {
     "name": "stderr",
     "output_type": "stream",
     "text": [
      "<ipython-input-266-5c6a166101a0>:2: FutureWarning: The default value of regex will change from True to False in a future version.\n",
      "  playstore['android_version'] = playstore['android_version'].str.replace('4.4W','4.4')\n",
      "<ipython-input-266-5c6a166101a0>:3: FutureWarning: The default value of regex will change from True to False in a future version.\n",
      "  playstore['android_version'] = playstore['android_version'].str.replace('- 7.1.1','')\n",
      "<ipython-input-266-5c6a166101a0>:4: FutureWarning: The default value of regex will change from True to False in a future version.\n",
      "  playstore['android_version'] = playstore['android_version'].str.replace('- 8.0','')\n",
      "<ipython-input-266-5c6a166101a0>:5: FutureWarning: The default value of regex will change from True to False in a future version.\n",
      "  playstore['android_version'] = playstore['android_version'].str.replace('- 6.0','')\n"
     ]
    }
   ],
   "source": [
    "playstore['android_version'] = playstore['android_version'].str.replace('and up','')\n",
    "playstore['android_version'] = playstore['android_version'].str.replace('4.4W','4.4')\n",
    "playstore['android_version'] = playstore['android_version'].str.replace('- 7.1.1','')\n",
    "playstore['android_version'] = playstore['android_version'].str.replace('- 8.0','')\n",
    "playstore['android_version'] = playstore['android_version'].str.replace('- 6.0','')\n",
    "playstore['android_version'] = playstore['android_version'].str.strip()\n",
    "print(playstore['android_version'].unique())"
   ]
  },
  {
   "cell_type": "code",
   "execution_count": 267,
   "metadata": {},
   "outputs": [
    {
     "name": "stdout",
     "output_type": "stream",
     "text": [
      "['Everyone' 'Teen' 'Everyone 10+' 'Mature 17+' 'Adults only 18+' 'Unrated'\n",
      " nan]\n"
     ]
    }
   ],
   "source": [
    "# Changing column \"content_rating\"\n",
    "print(playstore[\"content_rating\"].unique())"
   ]
  },
  {
   "cell_type": "code",
   "execution_count": 268,
   "metadata": {},
   "outputs": [],
   "source": [
    "playstore[\"content_rating\"] = playstore[\"content_rating\"].str.replace('Everyone 10', '10')\n",
    "playstore[\"content_rating\"] = playstore[\"content_rating\"].str.replace('Mature 17', '17')\n",
    "playstore[\"content_rating\"] = playstore[\"content_rating\"].str.replace('Adults only 18', '18')"
   ]
  },
  {
   "cell_type": "code",
   "execution_count": 269,
   "metadata": {},
   "outputs": [
    {
     "name": "stdout",
     "output_type": "stream",
     "text": [
      "['Everyone' 'Teen' '10+' '17+' '18+' 'Unrated' nan]\n"
     ]
    }
   ],
   "source": [
    "print(playstore[\"content_rating\"].unique())"
   ]
  },
  {
   "cell_type": "code",
   "execution_count": 270,
   "metadata": {},
   "outputs": [
    {
     "name": "stderr",
     "output_type": "stream",
     "text": [
      "<ipython-input-270-c27a3758dca4>:4: FutureWarning: The default value of regex will change from True to False in a future version. In addition, single character regular expressions will*not* be treated as literal strings when regex=True.\n",
      "  playstore[\"installs\"] = playstore[\"installs\"].str.replace('+', '')\n"
     ]
    }
   ],
   "source": [
    "# Changing \"installs\" column \n",
    "playstore[\"installs\"] = playstore[\"installs\"].str.replace('Free', 'np.nan')\n",
    "playstore[\"installs\"] = playstore[\"installs\"].str.replace(',', '')\n",
    "playstore[\"installs\"] = playstore[\"installs\"].str.replace('+', '')"
   ]
  },
  {
   "cell_type": "code",
   "execution_count": 271,
   "metadata": {},
   "outputs": [
    {
     "name": "stdout",
     "output_type": "stream",
     "text": [
      "['10000' '500000' '5000000' '50000000' '100000' '50000' '1000000'\n",
      " '10000000' '5000' '100000000' '1000000000' '1000' '500000000' '50' '100'\n",
      " '500' '10' '1' '5' '0' 'np.nan']\n"
     ]
    }
   ],
   "source": [
    "print(playstore[\"installs\"].unique())"
   ]
  },
  {
   "cell_type": "code",
   "execution_count": 272,
   "metadata": {},
   "outputs": [
    {
     "name": "stderr",
     "output_type": "stream",
     "text": [
      "<ipython-input-272-42d34cfb2e70>:2: FutureWarning: The default value of regex will change from True to False in a future version. In addition, single character regular expressions will*not* be treated as literal strings when regex=True.\n",
      "  playstore['price'] = playstore['price'].str.replace('$','')\n"
     ]
    },
    {
     "data": {
      "text/plain": [
       "array([  0.  ,   4.99,   3.99,   6.99,   1.49,   2.99,   7.99,   5.99,\n",
       "         3.49,   1.99,   9.99,   7.49,   0.99,   9.  ,   5.49,  10.  ,\n",
       "        24.99,  11.99,  79.99,  16.99,  14.99,   1.  ,  29.99,  12.99,\n",
       "         2.49,  10.99,   1.5 ,  19.99,  15.99,  33.99,  74.99,  39.99,\n",
       "         3.95,   4.49,   1.7 ,   8.99,   2.  ,   3.88,  25.99, 399.99,\n",
       "        17.99, 400.  ,   3.02,   1.76,   4.84,   4.77,   1.61,   2.5 ,\n",
       "         1.59,   6.49,   1.29,   5.  ,  13.99, 299.99, 379.99,  37.99,\n",
       "        18.99, 389.99,  19.9 ,   8.49,   1.75,  14.  ,   4.85,  46.99,\n",
       "       109.99, 154.99,   3.08,   2.59,   4.8 ,   1.96,  19.4 ,   3.9 ,\n",
       "         4.59,  15.46,   3.04,   4.29,   2.6 ,   3.28,   4.6 ,  28.99,\n",
       "         2.95,   2.9 ,   1.97, 200.  ,  89.99,   2.56,  30.99,   3.61,\n",
       "       394.99,   1.26,   1.2 ,   1.04])"
      ]
     },
     "execution_count": 272,
     "metadata": {},
     "output_type": "execute_result"
    }
   ],
   "source": [
    "playstore['price'] = playstore['price'].str.replace('Everyone','0')\n",
    "playstore['price'] = playstore['price'].str.replace('$','')\n",
    "playstore['price'] = playstore['price'].astype(float)\n",
    "playstore['price'].unique()"
   ]
  },
  {
   "cell_type": "code",
   "execution_count": 273,
   "metadata": {},
   "outputs": [
    {
     "name": "stdout",
     "output_type": "stream",
     "text": [
      "<class 'pandas.core.frame.DataFrame'>\n",
      "RangeIndex: 10841 entries, 0 to 10840\n",
      "Data columns (total 13 columns):\n",
      " #   Column           Non-Null Count  Dtype  \n",
      "---  ------           --------------  -----  \n",
      " 0   app              10841 non-null  object \n",
      " 1   category         10841 non-null  object \n",
      " 2   rating           9367 non-null   float64\n",
      " 3   reviews          10841 non-null  object \n",
      " 4   size             10841 non-null  object \n",
      " 5   installs         10841 non-null  object \n",
      " 6   type             10840 non-null  object \n",
      " 7   price            10841 non-null  float64\n",
      " 8   content_rating   10840 non-null  object \n",
      " 9   genres           10841 non-null  object \n",
      " 10  last_updated     10841 non-null  object \n",
      " 11  current_version  10833 non-null  object \n",
      " 12  android_version  10838 non-null  object \n",
      "dtypes: float64(2), object(11)\n",
      "memory usage: 1.1+ MB\n",
      "None\n"
     ]
    }
   ],
   "source": [
    "print(playstore.info())"
   ]
  },
  {
   "cell_type": "code",
   "execution_count": 274,
   "metadata": {},
   "outputs": [
    {
     "name": "stdout",
     "output_type": "stream",
     "text": [
      "['19 M' '14 M' '8.7 M' '25 M' '2.8 M' '5.6 M' '29 M' '33 M' '3.1 M' '28 M'\n",
      " '12 M' '20 M' '21 M' '37 M' '2.7 M' '5.5 M' '17 M' '39 M' '31 M' '4.2 M'\n",
      " '7.0 M' '23 M' '6.0 M' '6.1 M' '4.6 M' '9.2 M' '5.2 M' '11 M' '24 M' nan\n",
      " '9.4 M' '15 M' '10 M' '1.2 M' '26 M' '8.0 M' '7.9 M' '56 M' '57 M' '35 M'\n",
      " '54 M' '201 k' '3.6 M' '5.7 M' '8.6 M' '2.4 M' '27 M' '2.5 M' '16 M'\n",
      " '3.4 M' '8.9 M' '3.9 M' '2.9 M' '38 M' '32 M' '5.4 M' '18 M' '1.1 M'\n",
      " '2.2 M' '4.5 M' '9.8 M' '52 M' '9.0 M' '6.7 M' '30 M' '2.6 M' '7.1 M'\n",
      " '3.7 M' '22 M' '7.4 M' '6.4 M' '3.2 M' '8.2 M' '9.9 M' '4.9 M' '9.5 M'\n",
      " '5.0 M' '5.9 M' '13 M' '73 M' '6.8 M' '3.5 M' '4.0 M' '2.3 M' '7.2 M'\n",
      " '2.1 M' '42 M' '7.3 M' '9.1 M' '55 M' '23 k' '6.5 M' '1.5 M' '7.5 M'\n",
      " '51 M' '41 M' '48 M' '8.5 M' '46 M' '8.3 M' '4.3 M' '4.7 M' '3.3 M'\n",
      " '40 M' '7.8 M' '8.8 M' '6.6 M' '5.1 M' '61 M' '66 M' '79 k' '8.4 M'\n",
      " '118 k' '44 M' '695 k' '1.6 M' '6.2 M' '18 k' '53 M' '1.4 M' '3.0 M'\n",
      " '5.8 M' '3.8 M' '9.6 M' '45 M' '63 M' '49 M' '77 M' '4.4 M' '4.8 M'\n",
      " '70 M' '6.9 M' '9.3 M' '10.0 M' '8.1 M' '36 M' '84 M' '97 M' '2.0 M'\n",
      " '1.9 M' '1.8 M' '5.3 M' '47 M' '556 k' '526 k' '76 M' '7.6 M' '59 M'\n",
      " '9.7 M' '78 M' '72 M' '43 M' '7.7 M' '6.3 M' '334 k' '34 M' '93 M' '65 M'\n",
      " '79 M' '100 M' '58 M' '50 M' '68 M' '64 M' '67 M' '60 M' '94 M' '232 k'\n",
      " '99 M' '624 k' '95 M' '8.5 k' '41 k' '292 k' '11 k' '80 M' '1.7 M' '74 M'\n",
      " '62 M' '69 M' '75 M' '98 M' '85 M' '82 M' '96 M' '87 M' '71 M' '86 M'\n",
      " '91 M' '81 M' '92 M' '83 M' '88 M' '704 k' '862 k' '899 k' '378 k'\n",
      " '266 k' '375 k' '1.3 M' '975 k' '980 k' '4.1 M' '89 M' '696 k' '544 k'\n",
      " '525 k' '920 k' '779 k' '853 k' '720 k' '713 k' '772 k' '318 k' '58 k'\n",
      " '241 k' '196 k' '857 k' '51 k' '953 k' '865 k' '251 k' '930 k' '540 k'\n",
      " '313 k' '746 k' '203 k' '26 k' '314 k' '239 k' '371 k' '220 k' '730 k'\n",
      " '756 k' '91 k' '293 k' '17 k' '74 k' '14 k' '317 k' '78 k' '924 k'\n",
      " '902 k' '818 k' '81 k' '939 k' '169 k' '45 k' '475 k' '965 k' '90 M'\n",
      " '545 k' '61 k' '283 k' '655 k' '714 k' '93 k' '872 k' '121 k' '322 k'\n",
      " '1.0 M' '976 k' '172 k' '238 k' '549 k' '206 k' '954 k' '444 k' '717 k'\n",
      " '210 k' '609 k' '308 k' '705 k' '306 k' '904 k' '473 k' '175 k' '350 k'\n",
      " '383 k' '454 k' '421 k' '70 k' '812 k' '442 k' '842 k' '417 k' '412 k'\n",
      " '459 k' '478 k' '335 k' '782 k' '721 k' '430 k' '429 k' '192 k' '200 k'\n",
      " '460 k' '728 k' '496 k' '816 k' '414 k' '506 k' '887 k' '613 k' '243 k'\n",
      " '569 k' '778 k' '683 k' '592 k' '319 k' '186 k' '840 k' '647 k' '191 k'\n",
      " '373 k' '437 k' '598 k' '716 k' '585 k' '982 k' '222 k' '219 k' '55 k'\n",
      " '948 k' '323 k' '691 k' '511 k' '951 k' '963 k' '25 k' '554 k' '351 k'\n",
      " '27 k' '82 k' '208 k' '913 k' '514 k' '551 k' '29 k' '103 k' '898 k'\n",
      " '743 k' '116 k' '153 k' '209 k' '353 k' '499 k' '173 k' '597 k' '809 k'\n",
      " '122 k' '411 k' '400 k' '801 k' '787 k' '237 k' '50 k' '643 k' '986 k'\n",
      " '97 k' '516 k' '837 k' '780 k' '961 k' '269 k' '20 k' '498 k' '600 k'\n",
      " '749 k' '642 k' '881 k' '72 k' '656 k' '601 k' '221 k' '228 k' '108 k'\n",
      " '940 k' '176 k' '33 k' '663 k' '34 k' '942 k' '259 k' '164 k' '458 k'\n",
      " '245 k' '629 k' '28 k' '288 k' '775 k' '785 k' '636 k' '916 k' '994 k'\n",
      " '309 k' '485 k' '914 k' '903 k' '608 k' '500 k' '54 k' '562 k' '847 k'\n",
      " '957 k' '688 k' '811 k' '270 k' '48 k' '329 k' '523 k' '921 k' '874 k'\n",
      " '981 k' '784 k' '280 k' '24 k' '518 k' '754 k' '892 k' '154 k' '860 k'\n",
      " '364 k' '387 k' '626 k' '161 k' '879 k' '39 k' '970 k' '170 k' '141 k'\n",
      " '160 k' '144 k' '143 k' '190 k' '376 k' '193 k' '246 k' '73 k' '658 k'\n",
      " '992 k' '253 k' '420 k' '404 k' '1,000 k' '470 k' '226 k' '240 k' '89 k'\n",
      " '234 k' '257 k' '861 k' '467 k' '157 k' '44 k' '676 k' '67 k' '552 k'\n",
      " '885 k' '1020 k' '582 k' '619 k']\n"
     ]
    },
    {
     "name": "stderr",
     "output_type": "stream",
     "text": [
      "<ipython-input-274-00e31bf9a200>:2: FutureWarning: The default value of regex will change from True to False in a future version. In addition, single character regular expressions will*not* be treated as literal strings when regex=True.\n",
      "  playstore['size'] = playstore['size'].str.replace('+','k')\n"
     ]
    }
   ],
   "source": [
    "playstore['size'] = playstore['size'].replace('Varies with device',np.nan)\n",
    "playstore['size'] = playstore['size'].str.replace('+','k')\n",
    "playstore['size'] = playstore['size'].str.replace('k',' k')\n",
    "playstore['size'] = playstore['size'].str.replace('M',' M')\n",
    "print(playstore['size'].unique())\n",
    "playstore[['size','fsize']] = playstore['size'].str.split(' ',1,expand = True)\n",
    "playstore['size'] = playstore['size'].str.replace(',','')\n",
    "playstore['size'] = playstore['size'].astype(float)\n",
    "playstore['size'] = np.where(playstore['fsize'] == 'M',playstore['size']*1000,playstore['size'])"
   ]
  },
  {
   "cell_type": "code",
   "execution_count": 275,
   "metadata": {},
   "outputs": [
    {
     "data": {
      "text/html": [
       "<div>\n",
       "<style scoped>\n",
       "    .dataframe tbody tr th:only-of-type {\n",
       "        vertical-align: middle;\n",
       "    }\n",
       "\n",
       "    .dataframe tbody tr th {\n",
       "        vertical-align: top;\n",
       "    }\n",
       "\n",
       "    .dataframe thead th {\n",
       "        text-align: right;\n",
       "    }\n",
       "</style>\n",
       "<table border=\"1\" class=\"dataframe\">\n",
       "  <thead>\n",
       "    <tr style=\"text-align: right;\">\n",
       "      <th></th>\n",
       "      <th>app</th>\n",
       "      <th>category</th>\n",
       "      <th>rating</th>\n",
       "      <th>reviews</th>\n",
       "      <th>size</th>\n",
       "      <th>installs</th>\n",
       "      <th>type</th>\n",
       "      <th>price</th>\n",
       "      <th>content_rating</th>\n",
       "      <th>genres</th>\n",
       "      <th>last_updated</th>\n",
       "      <th>current_version</th>\n",
       "      <th>android_version</th>\n",
       "      <th>fsize</th>\n",
       "    </tr>\n",
       "  </thead>\n",
       "  <tbody>\n",
       "    <tr>\n",
       "      <th>0</th>\n",
       "      <td>Photo Editor &amp; Candy Camera &amp; Grid &amp; ScrapBook</td>\n",
       "      <td>ART_AND_DESIGN</td>\n",
       "      <td>4.1</td>\n",
       "      <td>159</td>\n",
       "      <td>19000.0</td>\n",
       "      <td>10000</td>\n",
       "      <td>Free</td>\n",
       "      <td>0.0</td>\n",
       "      <td>Everyone</td>\n",
       "      <td>Art &amp; Design</td>\n",
       "      <td>January 7, 2018</td>\n",
       "      <td>1.0.0</td>\n",
       "      <td>4.0.3</td>\n",
       "      <td>M</td>\n",
       "    </tr>\n",
       "    <tr>\n",
       "      <th>1</th>\n",
       "      <td>Coloring book moana</td>\n",
       "      <td>ART_AND_DESIGN</td>\n",
       "      <td>3.9</td>\n",
       "      <td>967</td>\n",
       "      <td>14000.0</td>\n",
       "      <td>500000</td>\n",
       "      <td>Free</td>\n",
       "      <td>0.0</td>\n",
       "      <td>Everyone</td>\n",
       "      <td>Art &amp; Design;Pretend Play</td>\n",
       "      <td>January 15, 2018</td>\n",
       "      <td>2.0.0</td>\n",
       "      <td>4.0.3</td>\n",
       "      <td>M</td>\n",
       "    </tr>\n",
       "    <tr>\n",
       "      <th>2</th>\n",
       "      <td>U Launcher Lite – FREE Live Cool Themes, Hide ...</td>\n",
       "      <td>ART_AND_DESIGN</td>\n",
       "      <td>4.7</td>\n",
       "      <td>87510</td>\n",
       "      <td>8700.0</td>\n",
       "      <td>5000000</td>\n",
       "      <td>Free</td>\n",
       "      <td>0.0</td>\n",
       "      <td>Everyone</td>\n",
       "      <td>Art &amp; Design</td>\n",
       "      <td>August 1, 2018</td>\n",
       "      <td>1.2.4</td>\n",
       "      <td>4.0.3</td>\n",
       "      <td>M</td>\n",
       "    </tr>\n",
       "    <tr>\n",
       "      <th>3</th>\n",
       "      <td>Sketch - Draw &amp; Paint</td>\n",
       "      <td>ART_AND_DESIGN</td>\n",
       "      <td>4.5</td>\n",
       "      <td>215644</td>\n",
       "      <td>25000.0</td>\n",
       "      <td>50000000</td>\n",
       "      <td>Free</td>\n",
       "      <td>0.0</td>\n",
       "      <td>Teen</td>\n",
       "      <td>Art &amp; Design</td>\n",
       "      <td>June 8, 2018</td>\n",
       "      <td>Varies with device</td>\n",
       "      <td>4.2</td>\n",
       "      <td>M</td>\n",
       "    </tr>\n",
       "    <tr>\n",
       "      <th>4</th>\n",
       "      <td>Pixel Draw - Number Art Coloring Book</td>\n",
       "      <td>ART_AND_DESIGN</td>\n",
       "      <td>4.3</td>\n",
       "      <td>967</td>\n",
       "      <td>2800.0</td>\n",
       "      <td>100000</td>\n",
       "      <td>Free</td>\n",
       "      <td>0.0</td>\n",
       "      <td>Everyone</td>\n",
       "      <td>Art &amp; Design;Creativity</td>\n",
       "      <td>June 20, 2018</td>\n",
       "      <td>1.1</td>\n",
       "      <td>4.4</td>\n",
       "      <td>M</td>\n",
       "    </tr>\n",
       "  </tbody>\n",
       "</table>\n",
       "</div>"
      ],
      "text/plain": [
       "                                                 app        category  rating  \\\n",
       "0     Photo Editor & Candy Camera & Grid & ScrapBook  ART_AND_DESIGN     4.1   \n",
       "1                                Coloring book moana  ART_AND_DESIGN     3.9   \n",
       "2  U Launcher Lite – FREE Live Cool Themes, Hide ...  ART_AND_DESIGN     4.7   \n",
       "3                              Sketch - Draw & Paint  ART_AND_DESIGN     4.5   \n",
       "4              Pixel Draw - Number Art Coloring Book  ART_AND_DESIGN     4.3   \n",
       "\n",
       "  reviews     size  installs  type  price content_rating  \\\n",
       "0     159  19000.0     10000  Free    0.0       Everyone   \n",
       "1     967  14000.0    500000  Free    0.0       Everyone   \n",
       "2   87510   8700.0   5000000  Free    0.0       Everyone   \n",
       "3  215644  25000.0  50000000  Free    0.0           Teen   \n",
       "4     967   2800.0    100000  Free    0.0       Everyone   \n",
       "\n",
       "                      genres      last_updated     current_version  \\\n",
       "0               Art & Design   January 7, 2018               1.0.0   \n",
       "1  Art & Design;Pretend Play  January 15, 2018               2.0.0   \n",
       "2               Art & Design    August 1, 2018               1.2.4   \n",
       "3               Art & Design      June 8, 2018  Varies with device   \n",
       "4    Art & Design;Creativity     June 20, 2018                 1.1   \n",
       "\n",
       "  android_version fsize  \n",
       "0           4.0.3     M  \n",
       "1           4.0.3     M  \n",
       "2           4.0.3     M  \n",
       "3             4.2     M  \n",
       "4             4.4     M  "
      ]
     },
     "execution_count": 275,
     "metadata": {},
     "output_type": "execute_result"
    }
   ],
   "source": [
    "playstore.head()"
   ]
  }
 ],
 "metadata": {
  "interpreter": {
   "hash": "11719158a86894d7808c2c8a635753faff182b16ee77c15d5c4e038f9341cbce"
  },
  "kernelspec": {
   "display_name": "Python 3.9.10 64-bit (windows store)",
   "language": "python",
   "name": "python3"
  },
  "language_info": {
   "codemirror_mode": {
    "name": "ipython",
    "version": 3
   },
   "file_extension": ".py",
   "mimetype": "text/x-python",
   "name": "python",
   "nbconvert_exporter": "python",
   "pygments_lexer": "ipython3",
   "version": "3.8.8"
  },
  "orig_nbformat": 4
 },
 "nbformat": 4,
 "nbformat_minor": 2
}
