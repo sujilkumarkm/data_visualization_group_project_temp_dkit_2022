{
 "cells": [
  {
   "cell_type": "code",
   "execution_count": 191,
   "metadata": {},
   "outputs": [],
   "source": [
    "import pandas as pd\n",
    "import os\n",
    "import requests\n",
    "import io\n",
    "import numpy as np"
   ]
  },
  {
   "cell_type": "code",
   "execution_count": 192,
   "metadata": {},
   "outputs": [
    {
     "name": "stdout",
     "output_type": "stream",
     "text": [
      "                                                 App        Category  Rating  \\\n",
      "0     Photo Editor & Candy Camera & Grid & ScrapBook  ART_AND_DESIGN     4.1   \n",
      "1                                Coloring book moana  ART_AND_DESIGN     3.9   \n",
      "2  U Launcher Lite – FREE Live Cool Themes, Hide ...  ART_AND_DESIGN     4.7   \n",
      "3                              Sketch - Draw & Paint  ART_AND_DESIGN     4.5   \n",
      "4              Pixel Draw - Number Art Coloring Book  ART_AND_DESIGN     4.3   \n",
      "\n",
      "  Reviews  Size     Installs  Type Price Content Rating  \\\n",
      "0     159   19M      10,000+  Free     0       Everyone   \n",
      "1     967   14M     500,000+  Free     0       Everyone   \n",
      "2   87510  8.7M   5,000,000+  Free     0       Everyone   \n",
      "3  215644   25M  50,000,000+  Free     0           Teen   \n",
      "4     967  2.8M     100,000+  Free     0       Everyone   \n",
      "\n",
      "                      Genres      Last Updated         Current Ver  \\\n",
      "0               Art & Design   January 7, 2018               1.0.0   \n",
      "1  Art & Design;Pretend Play  January 15, 2018               2.0.0   \n",
      "2               Art & Design    August 1, 2018               1.2.4   \n",
      "3               Art & Design      June 8, 2018  Varies with device   \n",
      "4    Art & Design;Creativity     June 20, 2018                 1.1   \n",
      "\n",
      "    Android Ver  \n",
      "0  4.0.3 and up  \n",
      "1  4.0.3 and up  \n",
      "2  4.0.3 and up  \n",
      "3    4.2 and up  \n",
      "4    4.4 and up  \n"
     ]
    }
   ],
   "source": [
    "# Change the directory to your local directory before running the code\n",
    "#os.chdir('D:\\\\DKIT\\\\combined_project\\\\data_visualization_group_project_temp_dkit_2022\\\\')\n",
    "\n",
    "# Downloading the csv file from the GitHub account\n",
    "url = \"https://raw.githubusercontent.com/sujilkumarkm/data_visualization_group_project_temp_dkit_2022/master/googleplaystore.csv\"\n",
    "download = requests.get(url).content\n",
    "\n",
    "# Reading the downloaded content and converting it into a pandas dataframe\n",
    "playstore = pd.read_csv(io.StringIO(download.decode('utf-8')))\n",
    "\n",
    "# Printing out the first 5 rows of the dataframe\n",
    "print (playstore.head())\n"
   ]
  },
  {
   "cell_type": "code",
   "execution_count": 193,
   "metadata": {},
   "outputs": [
    {
     "name": "stdout",
     "output_type": "stream",
     "text": [
      "<class 'pandas.core.frame.DataFrame'>\n",
      "RangeIndex: 10841 entries, 0 to 10840\n",
      "Data columns (total 13 columns):\n",
      " #   Column          Non-Null Count  Dtype  \n",
      "---  ------          --------------  -----  \n",
      " 0   App             10841 non-null  object \n",
      " 1   Category        10841 non-null  object \n",
      " 2   Rating          9367 non-null   float64\n",
      " 3   Reviews         10841 non-null  object \n",
      " 4   Size            10841 non-null  object \n",
      " 5   Installs        10841 non-null  object \n",
      " 6   Type            10840 non-null  object \n",
      " 7   Price           10841 non-null  object \n",
      " 8   Content Rating  10840 non-null  object \n",
      " 9   Genres          10841 non-null  object \n",
      " 10  Last Updated    10841 non-null  object \n",
      " 11  Current Ver     10833 non-null  object \n",
      " 12  Android Ver     10838 non-null  object \n",
      "dtypes: float64(1), object(12)\n",
      "memory usage: 1.1+ MB\n",
      "None\n"
     ]
    }
   ],
   "source": [
    "print(playstore.info())"
   ]
  },
  {
   "cell_type": "code",
   "execution_count": 194,
   "metadata": {},
   "outputs": [],
   "source": [
    "# Changing the column names.\n",
    "playstore.rename(columns = {\"App\":\"app\",\"Category\":\"category\", \"Rating\":\"rating\", \"Reviews\":\"reviews\", \"Size\":\"size\", \"Installs\":\"installs\", \"Type\":\"type\", \"Price\":\"price\", \"Content Rating\":\"content_rating\", \"Genres\":\"genres\",\"Last Updated\":\"last_updated\",\"Current Ver\":\"current_version\",\"Android Ver\":\"android_version\"}, inplace = True)"
   ]
  },
  {
   "cell_type": "code",
   "execution_count": 195,
   "metadata": {},
   "outputs": [
    {
     "name": "stdout",
     "output_type": "stream",
     "text": [
      "<class 'pandas.core.frame.DataFrame'>\n",
      "RangeIndex: 10841 entries, 0 to 10840\n",
      "Data columns (total 13 columns):\n",
      " #   Column           Non-Null Count  Dtype  \n",
      "---  ------           --------------  -----  \n",
      " 0   app              10841 non-null  object \n",
      " 1   category         10841 non-null  object \n",
      " 2   rating           9367 non-null   float64\n",
      " 3   reviews          10841 non-null  object \n",
      " 4   size             10841 non-null  object \n",
      " 5   installs         10841 non-null  object \n",
      " 6   type             10840 non-null  object \n",
      " 7   price            10841 non-null  object \n",
      " 8   content_rating   10840 non-null  object \n",
      " 9   genres           10841 non-null  object \n",
      " 10  last_updated     10841 non-null  object \n",
      " 11  current_version  10833 non-null  object \n",
      " 12  android_version  10838 non-null  object \n",
      "dtypes: float64(1), object(12)\n",
      "memory usage: 1.1+ MB\n",
      "None\n"
     ]
    }
   ],
   "source": [
    "print(playstore.info())"
   ]
  },
  {
   "cell_type": "code",
   "execution_count": 196,
   "metadata": {},
   "outputs": [
    {
     "name": "stdout",
     "output_type": "stream",
     "text": [
      "['4.0.3 and up' '4.2 and up' '4.4 and up' '2.3 and up' '3.0 and up'\n",
      " '4.1 and up' '4.0 and up' '2.3.3 and up' 'Varies with device'\n",
      " '2.2 and up' '5.0 and up' '6.0 and up' '1.6 and up' '1.5 and up'\n",
      " '2.1 and up' '7.0 and up' '5.1 and up' '4.3 and up' '4.0.3 - 7.1.1'\n",
      " '2.0 and up' '3.2 and up' '4.4W and up' '7.1 and up' '7.0 - 7.1.1'\n",
      " '8.0 and up' '5.0 - 8.0' '3.1 and up' '2.0.1 and up' '4.1 - 7.1.1' nan\n",
      " '5.0 - 6.0' '1.0 and up' '2.2 - 7.1.1' '5.0 - 7.1.1']\n"
     ]
    }
   ],
   "source": [
    "print(playstore['android_version'].unique())"
   ]
  },
  {
   "cell_type": "code",
   "execution_count": 197,
   "metadata": {},
   "outputs": [
    {
     "name": "stdout",
     "output_type": "stream",
     "text": [
      "['4.0.3' '4.2' '4.4' '2.3' '3.0' '4.1' '4.0' '2.3.3' 'Varies with device'\n",
      " '2.2' '5.0' '6.0' '1.6' '1.5' '2.1' '7.0' '5.1' '4.3' '2.0' '3.2' '7.1'\n",
      " '8.0' '3.1' '2.0.1' nan '1.0']\n"
     ]
    },
    {
     "name": "stderr",
     "output_type": "stream",
     "text": [
      "C:\\Users\\35385\\AppData\\Local\\Temp/ipykernel_8316/1250415843.py:2: FutureWarning: The default value of regex will change from True to False in a future version.\n",
      "  playstore['android_version'] = playstore['android_version'].str.replace('4.4W','4.4')\n",
      "C:\\Users\\35385\\AppData\\Local\\Temp/ipykernel_8316/1250415843.py:3: FutureWarning: The default value of regex will change from True to False in a future version.\n",
      "  playstore['android_version'] = playstore['android_version'].str.replace('- 7.1.1','')\n",
      "C:\\Users\\35385\\AppData\\Local\\Temp/ipykernel_8316/1250415843.py:4: FutureWarning: The default value of regex will change from True to False in a future version.\n",
      "  playstore['android_version'] = playstore['android_version'].str.replace('- 8.0','')\n",
      "C:\\Users\\35385\\AppData\\Local\\Temp/ipykernel_8316/1250415843.py:5: FutureWarning: The default value of regex will change from True to False in a future version.\n",
      "  playstore['android_version'] = playstore['android_version'].str.replace('- 6.0','')\n"
     ]
    }
   ],
   "source": [
    "playstore['android_version'] = playstore['android_version'].str.replace('and up','')\n",
    "playstore['android_version'] = playstore['android_version'].str.replace('4.4W','4.4')\n",
    "playstore['android_version'] = playstore['android_version'].str.replace('- 7.1.1','')\n",
    "playstore['android_version'] = playstore['android_version'].str.replace('- 8.0','')\n",
    "playstore['android_version'] = playstore['android_version'].str.replace('- 6.0','')\n",
    "playstore['android_version'] = playstore['android_version'].str.strip()\n",
    "print(playstore['android_version'].unique())"
   ]
  },
  {
   "cell_type": "code",
   "execution_count": 198,
   "metadata": {},
   "outputs": [
    {
     "name": "stdout",
     "output_type": "stream",
     "text": [
      "['Everyone' 'Teen' 'Everyone 10+' 'Mature 17+' 'Adults only 18+' 'Unrated'\n",
      " nan]\n"
     ]
    }
   ],
   "source": [
    "# Changing column \"content_rating\"\n",
    "print(playstore[\"content_rating\"].unique())"
   ]
  },
  {
   "cell_type": "code",
   "execution_count": 199,
   "metadata": {},
   "outputs": [],
   "source": [
    "playstore[\"content_rating\"] = playstore[\"content_rating\"].str.replace('Everyone 10', '10')\n",
    "playstore[\"content_rating\"] = playstore[\"content_rating\"].str.replace('Mature 17', '17')\n",
    "playstore[\"content_rating\"] = playstore[\"content_rating\"].str.replace('Adults only 18', '18')"
   ]
  },
  {
   "cell_type": "code",
   "execution_count": 200,
   "metadata": {},
   "outputs": [
    {
     "name": "stdout",
     "output_type": "stream",
     "text": [
      "['Everyone' 'Teen' '10+' '17+' '18+' 'Unrated' nan]\n"
     ]
    }
   ],
   "source": [
    "print(playstore[\"content_rating\"].unique())"
   ]
  },
  {
   "cell_type": "code",
   "execution_count": 201,
   "metadata": {},
   "outputs": [
    {
     "name": "stderr",
     "output_type": "stream",
     "text": [
      "C:\\Users\\35385\\AppData\\Local\\Temp/ipykernel_8316/3643563530.py:4: FutureWarning: The default value of regex will change from True to False in a future version. In addition, single character regular expressions will *not* be treated as literal strings when regex=True.\n",
      "  playstore[\"installs\"] = playstore[\"installs\"].str.replace('+', '')\n"
     ]
    }
   ],
   "source": [
    "# Changing \"installs\" column \n",
    "playstore[\"installs\"] = playstore[\"installs\"].str.replace('Free', 'np.nan')\n",
    "playstore[\"installs\"] = playstore[\"installs\"].str.replace(',', '')\n",
    "playstore[\"installs\"] = playstore[\"installs\"].str.replace('+', '')"
   ]
  },
  {
   "cell_type": "code",
   "execution_count": 202,
   "metadata": {},
   "outputs": [
    {
     "name": "stdout",
     "output_type": "stream",
     "text": [
      "['10000' '500000' '5000000' '50000000' '100000' '50000' '1000000'\n",
      " '10000000' '5000' '100000000' '1000000000' '1000' '500000000' '50' '100'\n",
      " '500' '10' '1' '5' '0' 'np.nan']\n"
     ]
    }
   ],
   "source": [
    "print(playstore[\"installs\"].unique())"
   ]
  },
  {
   "cell_type": "code",
   "execution_count": 203,
   "metadata": {},
   "outputs": [
    {
     "name": "stderr",
     "output_type": "stream",
     "text": [
      "C:\\Users\\35385\\AppData\\Local\\Temp/ipykernel_8316/2122292416.py:2: FutureWarning: The default value of regex will change from True to False in a future version. In addition, single character regular expressions will *not* be treated as literal strings when regex=True.\n",
      "  playstore['price'] = playstore['price'].str.replace('$','')\n"
     ]
    },
    {
     "data": {
      "text/plain": [
       "array([  0.  ,   4.99,   3.99,   6.99,   1.49,   2.99,   7.99,   5.99,\n",
       "         3.49,   1.99,   9.99,   7.49,   0.99,   9.  ,   5.49,  10.  ,\n",
       "        24.99,  11.99,  79.99,  16.99,  14.99,   1.  ,  29.99,  12.99,\n",
       "         2.49,  10.99,   1.5 ,  19.99,  15.99,  33.99,  74.99,  39.99,\n",
       "         3.95,   4.49,   1.7 ,   8.99,   2.  ,   3.88,  25.99, 399.99,\n",
       "        17.99, 400.  ,   3.02,   1.76,   4.84,   4.77,   1.61,   2.5 ,\n",
       "         1.59,   6.49,   1.29,   5.  ,  13.99, 299.99, 379.99,  37.99,\n",
       "        18.99, 389.99,  19.9 ,   8.49,   1.75,  14.  ,   4.85,  46.99,\n",
       "       109.99, 154.99,   3.08,   2.59,   4.8 ,   1.96,  19.4 ,   3.9 ,\n",
       "         4.59,  15.46,   3.04,   4.29,   2.6 ,   3.28,   4.6 ,  28.99,\n",
       "         2.95,   2.9 ,   1.97, 200.  ,  89.99,   2.56,  30.99,   3.61,\n",
       "       394.99,   1.26,   1.2 ,   1.04])"
      ]
     },
     "execution_count": 203,
     "metadata": {},
     "output_type": "execute_result"
    }
   ],
   "source": [
    "playstore['price'] = playstore['price'].str.replace('Everyone','0')\n",
    "playstore['price'] = playstore['price'].str.replace('$','')\n",
    "playstore['price'] = playstore['price'].astype(float)\n",
    "playstore['price'].unique()"
   ]
  },
  {
   "cell_type": "code",
   "execution_count": 204,
   "metadata": {},
   "outputs": [
    {
     "name": "stdout",
     "output_type": "stream",
     "text": [
      "<class 'pandas.core.frame.DataFrame'>\n",
      "RangeIndex: 10841 entries, 0 to 10840\n",
      "Data columns (total 13 columns):\n",
      " #   Column           Non-Null Count  Dtype  \n",
      "---  ------           --------------  -----  \n",
      " 0   app              10841 non-null  object \n",
      " 1   category         10841 non-null  object \n",
      " 2   rating           9367 non-null   float64\n",
      " 3   reviews          10841 non-null  object \n",
      " 4   size             10841 non-null  object \n",
      " 5   installs         10841 non-null  object \n",
      " 6   type             10840 non-null  object \n",
      " 7   price            10841 non-null  float64\n",
      " 8   content_rating   10840 non-null  object \n",
      " 9   genres           10841 non-null  object \n",
      " 10  last_updated     10841 non-null  object \n",
      " 11  current_version  10833 non-null  object \n",
      " 12  android_version  10838 non-null  object \n",
      "dtypes: float64(2), object(11)\n",
      "memory usage: 1.1+ MB\n",
      "None\n"
     ]
    }
   ],
   "source": [
    "print(playstore.info())"
   ]
  },
  {
   "cell_type": "code",
   "execution_count": 205,
   "metadata": {},
   "outputs": [
    {
     "name": "stderr",
     "output_type": "stream",
     "text": [
      "C:\\Users\\35385\\AppData\\Local\\Temp/ipykernel_8316/3440641049.py:2: FutureWarning: The default value of regex will change from True to False in a future version. In addition, single character regular expressions will *not* be treated as literal strings when regex=True.\n",
      "  playstore['size'] = playstore['size'].str.replace('+','k')\n"
     ]
    }
   ],
   "source": [
    "playstore['size'] = playstore['size'].replace('Varies with device',np.nan)\n",
    "playstore['size'] = playstore['size'].str.replace('+','k')\n",
    "playstore['size'] = playstore['size'].str.replace('k',' k')\n",
    "playstore['size'] = playstore['size'].str.replace('M',' M')\n",
    "playstore[['size','fsize']] = playstore['size'].str.split(' ',1,expand = True)\n",
    "playstore['size'] = playstore['size'].str.replace(',','')\n",
    "playstore['size'] = playstore['size'].astype(float)\n",
    "playstore['size'] = np.where(playstore['fsize'] == 'M',playstore['size']*1000,playstore['size'])"
   ]
  },
  {
   "cell_type": "code",
   "execution_count": 206,
   "metadata": {},
   "outputs": [],
   "source": [
    "playstore['last_updated'] = playstore['last_updated'].replace('1.0.19',np.nan)\n",
    "playstore['last_updated'] = pd.to_datetime(playstore['last_updated'],format = '%B %d, %Y')"
   ]
  },
  {
   "cell_type": "code",
   "execution_count": 207,
   "metadata": {},
   "outputs": [
    {
     "name": "stdout",
     "output_type": "stream",
     "text": [
      "<class 'pandas.core.frame.DataFrame'>\n",
      "RangeIndex: 10841 entries, 0 to 10840\n",
      "Data columns (total 14 columns):\n",
      " #   Column           Non-Null Count  Dtype         \n",
      "---  ------           --------------  -----         \n",
      " 0   app              10841 non-null  object        \n",
      " 1   category         10841 non-null  object        \n",
      " 2   rating           9367 non-null   float64       \n",
      " 3   reviews          10841 non-null  object        \n",
      " 4   size             9146 non-null   float64       \n",
      " 5   installs         10841 non-null  object        \n",
      " 6   type             10840 non-null  object        \n",
      " 7   price            10841 non-null  float64       \n",
      " 8   content_rating   10840 non-null  object        \n",
      " 9   genres           10841 non-null  object        \n",
      " 10  last_updated     10840 non-null  datetime64[ns]\n",
      " 11  current_version  10833 non-null  object        \n",
      " 12  android_version  10838 non-null  object        \n",
      " 13  fsize            9146 non-null   object        \n",
      "dtypes: datetime64[ns](1), float64(3), object(10)\n",
      "memory usage: 1.2+ MB\n",
      "None\n"
     ]
    }
   ],
   "source": [
    "print(playstore.info())"
   ]
  },
  {
   "cell_type": "code",
   "execution_count": 208,
   "metadata": {},
   "outputs": [],
   "source": [
    "playstore.drop('fsize',axis=1,inplace = True)"
   ]
  },
  {
   "cell_type": "code",
   "execution_count": 209,
   "metadata": {},
   "outputs": [
    {
     "name": "stdout",
     "output_type": "stream",
     "text": [
      "<class 'pandas.core.frame.DataFrame'>\n",
      "RangeIndex: 10841 entries, 0 to 10840\n",
      "Data columns (total 13 columns):\n",
      " #   Column           Non-Null Count  Dtype         \n",
      "---  ------           --------------  -----         \n",
      " 0   app              10841 non-null  object        \n",
      " 1   category         10841 non-null  object        \n",
      " 2   rating           9367 non-null   float64       \n",
      " 3   reviews          10841 non-null  object        \n",
      " 4   size             9146 non-null   float64       \n",
      " 5   installs         10841 non-null  object        \n",
      " 6   type             10840 non-null  object        \n",
      " 7   price            10841 non-null  float64       \n",
      " 8   content_rating   10840 non-null  object        \n",
      " 9   genres           10841 non-null  object        \n",
      " 10  last_updated     10840 non-null  datetime64[ns]\n",
      " 11  current_version  10833 non-null  object        \n",
      " 12  android_version  10838 non-null  object        \n",
      "dtypes: datetime64[ns](1), float64(3), object(9)\n",
      "memory usage: 1.1+ MB\n",
      "None\n"
     ]
    }
   ],
   "source": [
    "print(playstore.info())"
   ]
  },
  {
   "cell_type": "code",
   "execution_count": 210,
   "metadata": {},
   "outputs": [],
   "source": [
    "playstore['reviews'] = playstore['reviews'].replace('3.0M','3000000')\n",
    "playstore['reviews'] = playstore['reviews'].astype(int)"
   ]
  },
  {
   "cell_type": "code",
   "execution_count": 211,
   "metadata": {},
   "outputs": [
    {
     "name": "stdout",
     "output_type": "stream",
     "text": [
      "<class 'pandas.core.frame.DataFrame'>\n",
      "RangeIndex: 10841 entries, 0 to 10840\n",
      "Data columns (total 13 columns):\n",
      " #   Column           Non-Null Count  Dtype         \n",
      "---  ------           --------------  -----         \n",
      " 0   app              10841 non-null  object        \n",
      " 1   category         10841 non-null  object        \n",
      " 2   rating           9367 non-null   float64       \n",
      " 3   reviews          10841 non-null  int32         \n",
      " 4   size             9146 non-null   float64       \n",
      " 5   installs         10841 non-null  object        \n",
      " 6   type             10840 non-null  object        \n",
      " 7   price            10841 non-null  float64       \n",
      " 8   content_rating   10840 non-null  object        \n",
      " 9   genres           10841 non-null  object        \n",
      " 10  last_updated     10840 non-null  datetime64[ns]\n",
      " 11  current_version  10833 non-null  object        \n",
      " 12  android_version  10838 non-null  object        \n",
      "dtypes: datetime64[ns](1), float64(3), int32(1), object(8)\n",
      "memory usage: 1.0+ MB\n",
      "None\n"
     ]
    }
   ],
   "source": [
    "print(playstore.info())"
   ]
  },
  {
   "cell_type": "code",
   "execution_count": 212,
   "metadata": {},
   "outputs": [
    {
     "name": "stdout",
     "output_type": "stream",
     "text": [
      "['Art & Design' 'Art & Design;Pretend Play' 'Art & Design;Creativity'\n",
      " 'Art & Design;Action & Adventure' 'Auto & Vehicles' 'Beauty'\n",
      " 'Books & Reference' 'Business' 'Comics' 'Comics;Creativity'\n",
      " 'Communication' 'Dating' 'Education;Education' 'Education'\n",
      " 'Education;Creativity' 'Education;Music & Video'\n",
      " 'Education;Action & Adventure' 'Education;Pretend Play'\n",
      " 'Education;Brain Games' 'Entertainment' 'Entertainment;Music & Video'\n",
      " 'Entertainment;Brain Games' 'Entertainment;Creativity' 'Events' 'Finance'\n",
      " 'Food & Drink' 'Health & Fitness' 'House & Home' 'Libraries & Demo'\n",
      " 'Lifestyle' 'Lifestyle;Pretend Play' 'Adventure;Action & Adventure'\n",
      " 'Arcade' 'Casual' 'Card' 'Casual;Pretend Play' 'Action' 'Strategy'\n",
      " 'Puzzle' 'Sports' 'Music' 'Word' 'Racing' 'Casual;Creativity'\n",
      " 'Casual;Action & Adventure' 'Simulation' 'Adventure' 'Board' 'Trivia'\n",
      " 'Role Playing' 'Simulation;Education' 'Action;Action & Adventure'\n",
      " 'Casual;Brain Games' 'Simulation;Action & Adventure'\n",
      " 'Educational;Creativity' 'Puzzle;Brain Games' 'Educational;Education'\n",
      " 'Card;Brain Games' 'Educational;Brain Games' 'Educational;Pretend Play'\n",
      " 'Entertainment;Education' 'Casual;Education' 'Music;Music & Video'\n",
      " 'Racing;Action & Adventure' 'Arcade;Pretend Play'\n",
      " 'Role Playing;Action & Adventure' 'Simulation;Pretend Play'\n",
      " 'Puzzle;Creativity' 'Sports;Action & Adventure'\n",
      " 'Educational;Action & Adventure' 'Arcade;Action & Adventure'\n",
      " 'Entertainment;Action & Adventure' 'Puzzle;Action & Adventure'\n",
      " 'Strategy;Action & Adventure' 'Music & Audio;Music & Video'\n",
      " 'Health & Fitness;Education' 'Adventure;Education' 'Board;Brain Games'\n",
      " 'Board;Action & Adventure' 'Board;Pretend Play' 'Casual;Music & Video'\n",
      " 'Role Playing;Pretend Play' 'Entertainment;Pretend Play'\n",
      " 'Video Players & Editors;Creativity' 'Card;Action & Adventure' 'Medical'\n",
      " 'Social' 'Shopping' 'Photography' 'Travel & Local'\n",
      " 'Travel & Local;Action & Adventure' 'Tools' 'Tools;Education'\n",
      " 'Personalization' 'Productivity' 'Parenting' 'Parenting;Music & Video'\n",
      " 'Parenting;Education' 'Parenting;Brain Games' 'Weather'\n",
      " 'Video Players & Editors' 'Video Players & Editors;Music & Video'\n",
      " 'News & Magazines' 'Maps & Navigation'\n",
      " 'Health & Fitness;Action & Adventure' 'Educational' 'Casino'\n",
      " 'Adventure;Brain Games' 'Trivia;Education' 'Lifestyle;Education'\n",
      " 'Books & Reference;Creativity' 'Books & Reference;Education'\n",
      " 'Puzzle;Education' 'Role Playing;Education' 'Role Playing;Brain Games'\n",
      " 'Strategy;Education' 'Racing;Pretend Play' 'Communication;Creativity'\n",
      " 'February 11, 2018' 'Strategy;Creativity']\n"
     ]
    }
   ],
   "source": [
    "\n",
    "print(playstore['genres'].unique())"
   ]
  },
  {
   "cell_type": "code",
   "execution_count": 213,
   "metadata": {},
   "outputs": [],
   "source": [
    "# changing \"genres\" column\n",
    "playstore['genres'] = playstore['genres'].replace('February 11, 2018',np.nan)"
   ]
  },
  {
   "cell_type": "code",
   "execution_count": 214,
   "metadata": {},
   "outputs": [],
   "source": [
    "playstore['genres'] = playstore['genres'].str.replace('Health & Fitness','Health and Fitness')\n",
    "playstore['genres'] = playstore['genres'].str.replace('Art & Design','Art and Design')\n",
    "playstore['genres'] = playstore['genres'].str.replace('Auto & Vehicles','Auto and Vehicles')\n",
    "playstore['genres'] = playstore['genres'].str.replace('Books & Reference','Books and Reference')\n",
    "playstore['genres'] = playstore['genres'].str.replace('Music & Video','Music and Video')\n",
    "playstore['genres'] = playstore['genres'].str.replace('Food & Drink','Food and Drink')\n",
    "playstore['genres'] = playstore['genres'].str.replace('Video Players & Editors','Video Players and Editors')\n",
    "playstore['genres'] = playstore['genres'].str.replace('Maps & Navigation','Maps and Navigation')\n",
    "playstore['genres'] = playstore['genres'].str.replace('House & Home','House and Home')\n",
    "playstore['genres'] = playstore['genres'].str.replace('Libraries & Demo','Libraries and Demo')"
   ]
  },
  {
   "cell_type": "code",
   "execution_count": 215,
   "metadata": {},
   "outputs": [
    {
     "name": "stdout",
     "output_type": "stream",
     "text": [
      "<class 'pandas.core.frame.DataFrame'>\n",
      "RangeIndex: 10841 entries, 0 to 10840\n",
      "Data columns (total 13 columns):\n",
      " #   Column           Non-Null Count  Dtype         \n",
      "---  ------           --------------  -----         \n",
      " 0   app              10841 non-null  object        \n",
      " 1   category         10841 non-null  object        \n",
      " 2   rating           9367 non-null   float64       \n",
      " 3   reviews          10841 non-null  int32         \n",
      " 4   size             9146 non-null   float64       \n",
      " 5   installs         10841 non-null  object        \n",
      " 6   type             10840 non-null  object        \n",
      " 7   price            10841 non-null  float64       \n",
      " 8   content_rating   10840 non-null  object        \n",
      " 9   genres           10840 non-null  object        \n",
      " 10  last_updated     10840 non-null  datetime64[ns]\n",
      " 11  current_version  10833 non-null  object        \n",
      " 12  android_version  10838 non-null  object        \n",
      "dtypes: datetime64[ns](1), float64(3), int32(1), object(8)\n",
      "memory usage: 1.0+ MB\n",
      "None\n"
     ]
    }
   ],
   "source": [
    "print(playstore.info())"
   ]
  },
  {
   "cell_type": "code",
   "execution_count": 216,
   "metadata": {},
   "outputs": [
    {
     "data": {
      "text/plain": [
       "array(['Art and Design', 'Art and Design;Pretend Play',\n",
       "       'Art and Design;Creativity', 'Art and Design;Action & Adventure',\n",
       "       'Auto and Vehicles', 'Beauty', 'Books and Reference', 'Business',\n",
       "       'Comics', 'Comics;Creativity', 'Communication', 'Dating',\n",
       "       'Education;Education', 'Education', 'Education;Creativity',\n",
       "       'Education;Music and Video', 'Education;Action & Adventure',\n",
       "       'Education;Pretend Play', 'Education;Brain Games', 'Entertainment',\n",
       "       'Entertainment;Music and Video', 'Entertainment;Brain Games',\n",
       "       'Entertainment;Creativity', 'Events', 'Finance', 'Food and Drink',\n",
       "       'Health and Fitness', 'House and Home', 'Libraries and Demo',\n",
       "       'Lifestyle', 'Lifestyle;Pretend Play',\n",
       "       'Adventure;Action & Adventure', 'Arcade', 'Casual', 'Card',\n",
       "       'Casual;Pretend Play', 'Action', 'Strategy', 'Puzzle', 'Sports',\n",
       "       'Music', 'Word', 'Racing', 'Casual;Creativity',\n",
       "       'Casual;Action & Adventure', 'Simulation', 'Adventure', 'Board',\n",
       "       'Trivia', 'Role Playing', 'Simulation;Education',\n",
       "       'Action;Action & Adventure', 'Casual;Brain Games',\n",
       "       'Simulation;Action & Adventure', 'Educational;Creativity',\n",
       "       'Puzzle;Brain Games', 'Educational;Education', 'Card;Brain Games',\n",
       "       'Educational;Brain Games', 'Educational;Pretend Play',\n",
       "       'Entertainment;Education', 'Casual;Education',\n",
       "       'Music;Music and Video', 'Racing;Action & Adventure',\n",
       "       'Arcade;Pretend Play', 'Role Playing;Action & Adventure',\n",
       "       'Simulation;Pretend Play', 'Puzzle;Creativity',\n",
       "       'Sports;Action & Adventure', 'Educational;Action & Adventure',\n",
       "       'Arcade;Action & Adventure', 'Entertainment;Action & Adventure',\n",
       "       'Puzzle;Action & Adventure', 'Strategy;Action & Adventure',\n",
       "       'Music & Audio;Music and Video', 'Health and Fitness;Education',\n",
       "       'Adventure;Education', 'Board;Brain Games',\n",
       "       'Board;Action & Adventure', 'Board;Pretend Play',\n",
       "       'Casual;Music and Video', 'Role Playing;Pretend Play',\n",
       "       'Entertainment;Pretend Play',\n",
       "       'Video Players and Editors;Creativity', 'Card;Action & Adventure',\n",
       "       'Medical', 'Social', 'Shopping', 'Photography', 'Travel & Local',\n",
       "       'Travel & Local;Action & Adventure', 'Tools', 'Tools;Education',\n",
       "       'Personalization', 'Productivity', 'Parenting',\n",
       "       'Parenting;Music and Video', 'Parenting;Education',\n",
       "       'Parenting;Brain Games', 'Weather', 'Video Players and Editors',\n",
       "       'Video Players and Editors;Music and Video', 'News & Magazines',\n",
       "       'Maps and Navigation', 'Health and Fitness;Action & Adventure',\n",
       "       'Educational', 'Casino', 'Adventure;Brain Games',\n",
       "       'Trivia;Education', 'Lifestyle;Education',\n",
       "       'Books and Reference;Creativity', 'Books and Reference;Education',\n",
       "       'Puzzle;Education', 'Role Playing;Education',\n",
       "       'Role Playing;Brain Games', 'Strategy;Education',\n",
       "       'Racing;Pretend Play', 'Communication;Creativity', nan,\n",
       "       'Strategy;Creativity'], dtype=object)"
      ]
     },
     "execution_count": 216,
     "metadata": {},
     "output_type": "execute_result"
    }
   ],
   "source": [
    "playstore['genres'].unique()"
   ]
  },
  {
   "cell_type": "code",
   "execution_count": 217,
   "metadata": {},
   "outputs": [
    {
     "data": {
      "text/plain": [
       "array(['Art and Design', 'Art and Design,Pretend Play',\n",
       "       'Art and Design,Creativity', 'Art and Design,Action , Adventure',\n",
       "       'Auto and Vehicles', 'Beauty', 'Books and Reference', 'Business',\n",
       "       'Comics', 'Comics,Creativity', 'Communication', 'Dating',\n",
       "       'Education,Education', 'Education', 'Education,Creativity',\n",
       "       'Education,Music and Video', 'Education,Action , Adventure',\n",
       "       'Education,Pretend Play', 'Education,Brain Games', 'Entertainment',\n",
       "       'Entertainment,Music and Video', 'Entertainment,Brain Games',\n",
       "       'Entertainment,Creativity', 'Events', 'Finance', 'Food and Drink',\n",
       "       'Health and Fitness', 'House and Home', 'Libraries and Demo',\n",
       "       'Lifestyle', 'Lifestyle,Pretend Play',\n",
       "       'Adventure,Action , Adventure', 'Arcade', 'Casual', 'Card',\n",
       "       'Casual,Pretend Play', 'Action', 'Strategy', 'Puzzle', 'Sports',\n",
       "       'Music', 'Word', 'Racing', 'Casual,Creativity',\n",
       "       'Casual,Action , Adventure', 'Simulation', 'Adventure', 'Board',\n",
       "       'Trivia', 'Role Playing', 'Simulation,Education',\n",
       "       'Action,Action , Adventure', 'Casual,Brain Games',\n",
       "       'Simulation,Action , Adventure', 'Educational,Creativity',\n",
       "       'Puzzle,Brain Games', 'Educational,Education', 'Card,Brain Games',\n",
       "       'Educational,Brain Games', 'Educational,Pretend Play',\n",
       "       'Entertainment,Education', 'Casual,Education',\n",
       "       'Music,Music and Video', 'Racing,Action , Adventure',\n",
       "       'Arcade,Pretend Play', 'Role Playing,Action , Adventure',\n",
       "       'Simulation,Pretend Play', 'Puzzle,Creativity',\n",
       "       'Sports,Action , Adventure', 'Educational,Action , Adventure',\n",
       "       'Arcade,Action , Adventure', 'Entertainment,Action , Adventure',\n",
       "       'Puzzle,Action , Adventure', 'Strategy,Action , Adventure',\n",
       "       'Music , Audio,Music and Video', 'Health and Fitness,Education',\n",
       "       'Adventure,Education', 'Board,Brain Games',\n",
       "       'Board,Action , Adventure', 'Board,Pretend Play',\n",
       "       'Casual,Music and Video', 'Role Playing,Pretend Play',\n",
       "       'Entertainment,Pretend Play',\n",
       "       'Video Players and Editors,Creativity', 'Card,Action , Adventure',\n",
       "       'Medical', 'Social', 'Shopping', 'Photography', 'Travel , Local',\n",
       "       'Travel , Local,Action , Adventure', 'Tools', 'Tools,Education',\n",
       "       'Personalization', 'Productivity', 'Parenting',\n",
       "       'Parenting,Music and Video', 'Parenting,Education',\n",
       "       'Parenting,Brain Games', 'Weather', 'Video Players and Editors',\n",
       "       'Video Players and Editors,Music and Video', 'News , Magazines',\n",
       "       'Maps and Navigation', 'Health and Fitness,Action , Adventure',\n",
       "       'Educational', 'Casino', 'Adventure,Brain Games',\n",
       "       'Trivia,Education', 'Lifestyle,Education',\n",
       "       'Books and Reference,Creativity', 'Books and Reference,Education',\n",
       "       'Puzzle,Education', 'Role Playing,Education',\n",
       "       'Role Playing,Brain Games', 'Strategy,Education',\n",
       "       'Racing,Pretend Play', 'Communication,Creativity', nan,\n",
       "       'Strategy,Creativity'], dtype=object)"
      ]
     },
     "execution_count": 217,
     "metadata": {},
     "output_type": "execute_result"
    }
   ],
   "source": [
    "playstore['genres']= playstore['genres'].str.replace('&', ',')\n",
    "playstore['genres']= playstore['genres'].str.replace(';', ',')\n",
    "playstore['genres'].unique()"
   ]
  },
  {
   "cell_type": "code",
   "execution_count": 218,
   "metadata": {},
   "outputs": [
    {
     "name": "stdout",
     "output_type": "stream",
     "text": [
      "<class 'pandas.core.frame.DataFrame'>\n",
      "RangeIndex: 10841 entries, 0 to 10840\n",
      "Data columns (total 17 columns):\n",
      " #   Column           Non-Null Count  Dtype         \n",
      "---  ------           --------------  -----         \n",
      " 0   app              10841 non-null  object        \n",
      " 1   category         10841 non-null  object        \n",
      " 2   rating           9367 non-null   float64       \n",
      " 3   reviews          10841 non-null  int32         \n",
      " 4   size             9146 non-null   float64       \n",
      " 5   installs         10841 non-null  object        \n",
      " 6   type             10840 non-null  object        \n",
      " 7   price            10841 non-null  float64       \n",
      " 8   content_rating   10840 non-null  object        \n",
      " 9   genres           10840 non-null  object        \n",
      " 10  last_updated     10840 non-null  datetime64[ns]\n",
      " 11  current_version  10833 non-null  object        \n",
      " 12  android_version  10838 non-null  object        \n",
      " 13  0                10840 non-null  object        \n",
      " 14  1                1038 non-null   object        \n",
      " 15  2                139 non-null    object        \n",
      " 16  3                1 non-null      object        \n",
      "dtypes: datetime64[ns](1), float64(3), int32(1), object(12)\n",
      "memory usage: 1.4+ MB\n"
     ]
    }
   ],
   "source": [
    "playstore[['0', '1', '2', '3']]= playstore['genres'].str.split(',',  expand = True)\n",
    "playstore.info()"
   ]
  },
  {
   "cell_type": "code",
   "execution_count": 220,
   "metadata": {},
   "outputs": [
    {
     "name": "stdout",
     "output_type": "stream",
     "text": [
      "['genres', 'last_updated', 'reviews', 'content_rating', 'price', 'type', 'size', 'android_version', 'app', 'rating', 'category', 'current_version', 'installs']\n"
     ]
    }
   ],
   "source": [
    "cols = list(playstore.columns.values)\n",
    "change = ['0','1','2','3']\n",
    "needed = list(set(cols)-set(change))\n",
    "print(needed)"
   ]
  },
  {
   "cell_type": "code",
   "execution_count": 221,
   "metadata": {},
   "outputs": [],
   "source": [
    "playstore_melted = pd.melt(playstore, id_vars = needed, value_vars= change, value_name='genre')"
   ]
  },
  {
   "cell_type": "code",
   "execution_count": 222,
   "metadata": {},
   "outputs": [
    {
     "name": "stdout",
     "output_type": "stream",
     "text": [
      "<class 'pandas.core.frame.DataFrame'>\n",
      "RangeIndex: 43364 entries, 0 to 43363\n",
      "Data columns (total 15 columns):\n",
      " #   Column           Non-Null Count  Dtype         \n",
      "---  ------           --------------  -----         \n",
      " 0   genres           43360 non-null  object        \n",
      " 1   last_updated     43360 non-null  datetime64[ns]\n",
      " 2   reviews          43364 non-null  int32         \n",
      " 3   content_rating   43360 non-null  object        \n",
      " 4   price            43364 non-null  float64       \n",
      " 5   type             43360 non-null  object        \n",
      " 6   size             36584 non-null  float64       \n",
      " 7   android_version  43352 non-null  object        \n",
      " 8   app              43364 non-null  object        \n",
      " 9   rating           37468 non-null  float64       \n",
      " 10  category         43364 non-null  object        \n",
      " 11  current_version  43332 non-null  object        \n",
      " 12  installs         43364 non-null  object        \n",
      " 13  variable         43364 non-null  object        \n",
      " 14  genre            12018 non-null  object        \n",
      "dtypes: datetime64[ns](1), float64(3), int32(1), object(10)\n",
      "memory usage: 4.8+ MB\n"
     ]
    }
   ],
   "source": [
    "playstore_melted.info()"
   ]
  },
  {
   "cell_type": "code",
   "execution_count": 223,
   "metadata": {},
   "outputs": [
    {
     "data": {
      "text/plain": [
       "0        Art and Design\n",
       "1        Art and Design\n",
       "2        Art and Design\n",
       "3        Art and Design\n",
       "4        Art and Design\n",
       "              ...      \n",
       "43359              None\n",
       "43360              None\n",
       "43361              None\n",
       "43362              None\n",
       "43363              None\n",
       "Name: genre, Length: 43364, dtype: object"
      ]
     },
     "execution_count": 223,
     "metadata": {},
     "output_type": "execute_result"
    }
   ],
   "source": [
    "playstore_melted['genre']"
   ]
  },
  {
   "cell_type": "code",
   "execution_count": 224,
   "metadata": {},
   "outputs": [
    {
     "data": {
      "text/plain": [
       "array(['0', '1', '2', '3'], dtype=object)"
      ]
     },
     "execution_count": 224,
     "metadata": {},
     "output_type": "execute_result"
    }
   ],
   "source": [
    "playstore_melted['variable'].unique()"
   ]
  },
  {
   "cell_type": "code",
   "execution_count": 225,
   "metadata": {},
   "outputs": [],
   "source": [
    "playstore_melted.drop('variable', axis=1, inplace = True)"
   ]
  },
  {
   "cell_type": "code",
   "execution_count": 227,
   "metadata": {},
   "outputs": [],
   "source": [
    "playstore_melted.drop('genres', axis=1, inplace = True)"
   ]
  },
  {
   "cell_type": "code",
   "execution_count": 228,
   "metadata": {},
   "outputs": [
    {
     "name": "stdout",
     "output_type": "stream",
     "text": [
      "<class 'pandas.core.frame.DataFrame'>\n",
      "RangeIndex: 43364 entries, 0 to 43363\n",
      "Data columns (total 13 columns):\n",
      " #   Column           Non-Null Count  Dtype         \n",
      "---  ------           --------------  -----         \n",
      " 0   last_updated     43360 non-null  datetime64[ns]\n",
      " 1   reviews          43364 non-null  int32         \n",
      " 2   content_rating   43360 non-null  object        \n",
      " 3   price            43364 non-null  float64       \n",
      " 4   type             43360 non-null  object        \n",
      " 5   size             36584 non-null  float64       \n",
      " 6   android_version  43352 non-null  object        \n",
      " 7   app              43364 non-null  object        \n",
      " 8   rating           37468 non-null  float64       \n",
      " 9   category         43364 non-null  object        \n",
      " 10  current_version  43332 non-null  object        \n",
      " 11  installs         43364 non-null  object        \n",
      " 12  genre            12018 non-null  object        \n",
      "dtypes: datetime64[ns](1), float64(3), int32(1), object(8)\n",
      "memory usage: 4.1+ MB\n",
      "None\n"
     ]
    }
   ],
   "source": [
    "print(playstore_melted.info())"
   ]
  },
  {
   "cell_type": "code",
   "execution_count": 231,
   "metadata": {},
   "outputs": [
    {
     "name": "stdout",
     "output_type": "stream",
     "text": [
      "['Art and Design' 'Auto and Vehicles' 'Beauty' 'Books and Reference'\n",
      " 'Business' 'Comics' 'Communication' 'Dating' 'Education' 'Entertainment'\n",
      " 'Events' 'Finance' 'Food and Drink' 'Health and Fitness' 'House and Home'\n",
      " 'Libraries and Demo' 'Lifestyle' 'Adventure' 'Arcade' 'Casual' 'Card'\n",
      " 'Action' 'Strategy' 'Puzzle' 'Sports' 'Music' 'Word' 'Racing'\n",
      " 'Simulation' 'Board' 'Trivia' 'Role Playing' 'Educational' 'Music '\n",
      " 'Video Players and Editors' 'Medical' 'Social' 'Shopping' 'Photography'\n",
      " 'Travel ' 'Tools' 'Personalization' 'Productivity' 'Parenting' 'Weather'\n",
      " 'News ' 'Maps and Navigation' 'Casino' nan None 'Pretend Play'\n",
      " 'Creativity' 'Action ' 'Music and Video' 'Brain Games' ' Audio' ' Local'\n",
      " ' Magazines' ' Adventure']\n"
     ]
    }
   ],
   "source": [
    "print(playstore_melted['genre'].unique())"
   ]
  },
  {
   "cell_type": "code",
   "execution_count": 232,
   "metadata": {},
   "outputs": [
    {
     "data": {
      "text/html": [
       "<div>\n",
       "<style scoped>\n",
       "    .dataframe tbody tr th:only-of-type {\n",
       "        vertical-align: middle;\n",
       "    }\n",
       "\n",
       "    .dataframe tbody tr th {\n",
       "        vertical-align: top;\n",
       "    }\n",
       "\n",
       "    .dataframe thead th {\n",
       "        text-align: right;\n",
       "    }\n",
       "</style>\n",
       "<table border=\"1\" class=\"dataframe\">\n",
       "  <thead>\n",
       "    <tr style=\"text-align: right;\">\n",
       "      <th></th>\n",
       "      <th>last_updated</th>\n",
       "      <th>reviews</th>\n",
       "      <th>content_rating</th>\n",
       "      <th>price</th>\n",
       "      <th>type</th>\n",
       "      <th>size</th>\n",
       "      <th>android_version</th>\n",
       "      <th>app</th>\n",
       "      <th>rating</th>\n",
       "      <th>category</th>\n",
       "      <th>current_version</th>\n",
       "      <th>installs</th>\n",
       "      <th>genre</th>\n",
       "    </tr>\n",
       "  </thead>\n",
       "  <tbody>\n",
       "    <tr>\n",
       "      <th>0</th>\n",
       "      <td>2018-01-07</td>\n",
       "      <td>159</td>\n",
       "      <td>Everyone</td>\n",
       "      <td>0.0</td>\n",
       "      <td>Free</td>\n",
       "      <td>19000.0</td>\n",
       "      <td>4.0.3</td>\n",
       "      <td>Photo Editor &amp; Candy Camera &amp; Grid &amp; ScrapBook</td>\n",
       "      <td>4.1</td>\n",
       "      <td>ART_AND_DESIGN</td>\n",
       "      <td>1.0.0</td>\n",
       "      <td>10000</td>\n",
       "      <td>Art and Design</td>\n",
       "    </tr>\n",
       "    <tr>\n",
       "      <th>1</th>\n",
       "      <td>2018-01-15</td>\n",
       "      <td>967</td>\n",
       "      <td>Everyone</td>\n",
       "      <td>0.0</td>\n",
       "      <td>Free</td>\n",
       "      <td>14000.0</td>\n",
       "      <td>4.0.3</td>\n",
       "      <td>Coloring book moana</td>\n",
       "      <td>3.9</td>\n",
       "      <td>ART_AND_DESIGN</td>\n",
       "      <td>2.0.0</td>\n",
       "      <td>500000</td>\n",
       "      <td>Art and Design</td>\n",
       "    </tr>\n",
       "    <tr>\n",
       "      <th>2</th>\n",
       "      <td>2018-08-01</td>\n",
       "      <td>87510</td>\n",
       "      <td>Everyone</td>\n",
       "      <td>0.0</td>\n",
       "      <td>Free</td>\n",
       "      <td>8700.0</td>\n",
       "      <td>4.0.3</td>\n",
       "      <td>U Launcher Lite – FREE Live Cool Themes, Hide ...</td>\n",
       "      <td>4.7</td>\n",
       "      <td>ART_AND_DESIGN</td>\n",
       "      <td>1.2.4</td>\n",
       "      <td>5000000</td>\n",
       "      <td>Art and Design</td>\n",
       "    </tr>\n",
       "    <tr>\n",
       "      <th>3</th>\n",
       "      <td>2018-06-08</td>\n",
       "      <td>215644</td>\n",
       "      <td>Teen</td>\n",
       "      <td>0.0</td>\n",
       "      <td>Free</td>\n",
       "      <td>25000.0</td>\n",
       "      <td>4.2</td>\n",
       "      <td>Sketch - Draw &amp; Paint</td>\n",
       "      <td>4.5</td>\n",
       "      <td>ART_AND_DESIGN</td>\n",
       "      <td>Varies with device</td>\n",
       "      <td>50000000</td>\n",
       "      <td>Art and Design</td>\n",
       "    </tr>\n",
       "    <tr>\n",
       "      <th>4</th>\n",
       "      <td>2018-06-20</td>\n",
       "      <td>967</td>\n",
       "      <td>Everyone</td>\n",
       "      <td>0.0</td>\n",
       "      <td>Free</td>\n",
       "      <td>2800.0</td>\n",
       "      <td>4.4</td>\n",
       "      <td>Pixel Draw - Number Art Coloring Book</td>\n",
       "      <td>4.3</td>\n",
       "      <td>ART_AND_DESIGN</td>\n",
       "      <td>1.1</td>\n",
       "      <td>100000</td>\n",
       "      <td>Art and Design</td>\n",
       "    </tr>\n",
       "    <tr>\n",
       "      <th>...</th>\n",
       "      <td>...</td>\n",
       "      <td>...</td>\n",
       "      <td>...</td>\n",
       "      <td>...</td>\n",
       "      <td>...</td>\n",
       "      <td>...</td>\n",
       "      <td>...</td>\n",
       "      <td>...</td>\n",
       "      <td>...</td>\n",
       "      <td>...</td>\n",
       "      <td>...</td>\n",
       "      <td>...</td>\n",
       "      <td>...</td>\n",
       "    </tr>\n",
       "    <tr>\n",
       "      <th>43359</th>\n",
       "      <td>2017-07-25</td>\n",
       "      <td>38</td>\n",
       "      <td>Everyone</td>\n",
       "      <td>0.0</td>\n",
       "      <td>Free</td>\n",
       "      <td>53000.0</td>\n",
       "      <td>4.1</td>\n",
       "      <td>Sya9a Maroc - FR</td>\n",
       "      <td>4.5</td>\n",
       "      <td>FAMILY</td>\n",
       "      <td>1.48</td>\n",
       "      <td>5000</td>\n",
       "      <td>None</td>\n",
       "    </tr>\n",
       "    <tr>\n",
       "      <th>43360</th>\n",
       "      <td>2018-07-06</td>\n",
       "      <td>4</td>\n",
       "      <td>Everyone</td>\n",
       "      <td>0.0</td>\n",
       "      <td>Free</td>\n",
       "      <td>3600.0</td>\n",
       "      <td>4.1</td>\n",
       "      <td>Fr. Mike Schmitz Audio Teachings</td>\n",
       "      <td>5.0</td>\n",
       "      <td>FAMILY</td>\n",
       "      <td>1.0</td>\n",
       "      <td>100</td>\n",
       "      <td>None</td>\n",
       "    </tr>\n",
       "    <tr>\n",
       "      <th>43361</th>\n",
       "      <td>2017-01-20</td>\n",
       "      <td>3</td>\n",
       "      <td>Everyone</td>\n",
       "      <td>0.0</td>\n",
       "      <td>Free</td>\n",
       "      <td>9500.0</td>\n",
       "      <td>2.2</td>\n",
       "      <td>Parkinson Exercices FR</td>\n",
       "      <td>NaN</td>\n",
       "      <td>MEDICAL</td>\n",
       "      <td>1.0</td>\n",
       "      <td>1000</td>\n",
       "      <td>None</td>\n",
       "    </tr>\n",
       "    <tr>\n",
       "      <th>43362</th>\n",
       "      <td>2015-01-19</td>\n",
       "      <td>114</td>\n",
       "      <td>17+</td>\n",
       "      <td>0.0</td>\n",
       "      <td>Free</td>\n",
       "      <td>NaN</td>\n",
       "      <td>Varies with device</td>\n",
       "      <td>The SCP Foundation DB fr nn5n</td>\n",
       "      <td>4.5</td>\n",
       "      <td>BOOKS_AND_REFERENCE</td>\n",
       "      <td>Varies with device</td>\n",
       "      <td>1000</td>\n",
       "      <td>None</td>\n",
       "    </tr>\n",
       "    <tr>\n",
       "      <th>43363</th>\n",
       "      <td>2018-07-25</td>\n",
       "      <td>398307</td>\n",
       "      <td>Everyone</td>\n",
       "      <td>0.0</td>\n",
       "      <td>Free</td>\n",
       "      <td>19000.0</td>\n",
       "      <td>Varies with device</td>\n",
       "      <td>iHoroscope - 2018 Daily Horoscope &amp; Astrology</td>\n",
       "      <td>4.5</td>\n",
       "      <td>LIFESTYLE</td>\n",
       "      <td>Varies with device</td>\n",
       "      <td>10000000</td>\n",
       "      <td>None</td>\n",
       "    </tr>\n",
       "  </tbody>\n",
       "</table>\n",
       "<p>43364 rows × 13 columns</p>\n",
       "</div>"
      ],
      "text/plain": [
       "      last_updated  reviews content_rating  price  type     size  \\\n",
       "0       2018-01-07      159       Everyone    0.0  Free  19000.0   \n",
       "1       2018-01-15      967       Everyone    0.0  Free  14000.0   \n",
       "2       2018-08-01    87510       Everyone    0.0  Free   8700.0   \n",
       "3       2018-06-08   215644           Teen    0.0  Free  25000.0   \n",
       "4       2018-06-20      967       Everyone    0.0  Free   2800.0   \n",
       "...            ...      ...            ...    ...   ...      ...   \n",
       "43359   2017-07-25       38       Everyone    0.0  Free  53000.0   \n",
       "43360   2018-07-06        4       Everyone    0.0  Free   3600.0   \n",
       "43361   2017-01-20        3       Everyone    0.0  Free   9500.0   \n",
       "43362   2015-01-19      114            17+    0.0  Free      NaN   \n",
       "43363   2018-07-25   398307       Everyone    0.0  Free  19000.0   \n",
       "\n",
       "          android_version                                                app  \\\n",
       "0                   4.0.3     Photo Editor & Candy Camera & Grid & ScrapBook   \n",
       "1                   4.0.3                                Coloring book moana   \n",
       "2                   4.0.3  U Launcher Lite – FREE Live Cool Themes, Hide ...   \n",
       "3                     4.2                              Sketch - Draw & Paint   \n",
       "4                     4.4              Pixel Draw - Number Art Coloring Book   \n",
       "...                   ...                                                ...   \n",
       "43359                 4.1                                   Sya9a Maroc - FR   \n",
       "43360                 4.1                   Fr. Mike Schmitz Audio Teachings   \n",
       "43361                 2.2                             Parkinson Exercices FR   \n",
       "43362  Varies with device                      The SCP Foundation DB fr nn5n   \n",
       "43363  Varies with device      iHoroscope - 2018 Daily Horoscope & Astrology   \n",
       "\n",
       "       rating             category     current_version  installs  \\\n",
       "0         4.1       ART_AND_DESIGN               1.0.0     10000   \n",
       "1         3.9       ART_AND_DESIGN               2.0.0    500000   \n",
       "2         4.7       ART_AND_DESIGN               1.2.4   5000000   \n",
       "3         4.5       ART_AND_DESIGN  Varies with device  50000000   \n",
       "4         4.3       ART_AND_DESIGN                 1.1    100000   \n",
       "...       ...                  ...                 ...       ...   \n",
       "43359     4.5               FAMILY                1.48      5000   \n",
       "43360     5.0               FAMILY                 1.0       100   \n",
       "43361     NaN              MEDICAL                 1.0      1000   \n",
       "43362     4.5  BOOKS_AND_REFERENCE  Varies with device      1000   \n",
       "43363     4.5            LIFESTYLE  Varies with device  10000000   \n",
       "\n",
       "                genre  \n",
       "0      Art and Design  \n",
       "1      Art and Design  \n",
       "2      Art and Design  \n",
       "3      Art and Design  \n",
       "4      Art and Design  \n",
       "...               ...  \n",
       "43359            None  \n",
       "43360            None  \n",
       "43361            None  \n",
       "43362            None  \n",
       "43363            None  \n",
       "\n",
       "[43364 rows x 13 columns]"
      ]
     },
     "execution_count": 232,
     "metadata": {},
     "output_type": "execute_result"
    }
   ],
   "source": [
    "playstore_melted"
   ]
  },
  {
   "cell_type": "code",
   "execution_count": 235,
   "metadata": {},
   "outputs": [],
   "source": [
    "playstore_final = playstore_melted[playstore_melted['genre'].notna()]"
   ]
  },
  {
   "cell_type": "code",
   "execution_count": 236,
   "metadata": {},
   "outputs": [
    {
     "name": "stdout",
     "output_type": "stream",
     "text": [
      "<class 'pandas.core.frame.DataFrame'>\n",
      "Int64Index: 12018 entries, 0 to 35742\n",
      "Data columns (total 13 columns):\n",
      " #   Column           Non-Null Count  Dtype         \n",
      "---  ------           --------------  -----         \n",
      " 0   last_updated     12018 non-null  datetime64[ns]\n",
      " 1   reviews          12018 non-null  int32         \n",
      " 2   content_rating   12018 non-null  object        \n",
      " 3   price            12018 non-null  float64       \n",
      " 4   type             12017 non-null  object        \n",
      " 5   size             10105 non-null  float64       \n",
      " 6   android_version  12016 non-null  object        \n",
      " 7   app              12018 non-null  object        \n",
      " 8   rating           10444 non-null  float64       \n",
      " 9   category         12018 non-null  object        \n",
      " 10  current_version  12010 non-null  object        \n",
      " 11  installs         12018 non-null  object        \n",
      " 12  genre            12018 non-null  object        \n",
      "dtypes: datetime64[ns](1), float64(3), int32(1), object(8)\n",
      "memory usage: 1.2+ MB\n"
     ]
    }
   ],
   "source": [
    "playstore_final.info()"
   ]
  },
  {
   "cell_type": "code",
   "execution_count": 237,
   "metadata": {},
   "outputs": [
    {
     "data": {
      "text/plain": [
       "array(['Art and Design', 'Auto and Vehicles', 'Beauty',\n",
       "       'Books and Reference', 'Business', 'Comics', 'Communication',\n",
       "       'Dating', 'Education', 'Entertainment', 'Events', 'Finance',\n",
       "       'Food and Drink', 'Health and Fitness', 'House and Home',\n",
       "       'Libraries and Demo', 'Lifestyle', 'Adventure', 'Arcade', 'Casual',\n",
       "       'Card', 'Action', 'Strategy', 'Puzzle', 'Sports', 'Music', 'Word',\n",
       "       'Racing', 'Simulation', 'Board', 'Trivia', 'Role Playing',\n",
       "       'Educational', 'Music ', 'Video Players and Editors', 'Medical',\n",
       "       'Social', 'Shopping', 'Photography', 'Travel ', 'Tools',\n",
       "       'Personalization', 'Productivity', 'Parenting', 'Weather', 'News ',\n",
       "       'Maps and Navigation', 'Casino', 'Pretend Play', 'Creativity',\n",
       "       'Action ', 'Music and Video', 'Brain Games', ' Audio', ' Local',\n",
       "       ' Magazines', ' Adventure'], dtype=object)"
      ]
     },
     "execution_count": 237,
     "metadata": {},
     "output_type": "execute_result"
    }
   ],
   "source": [
    "playstore_final['genre'].unique()"
   ]
  },
  {
   "cell_type": "code",
   "execution_count": 241,
   "metadata": {},
   "outputs": [
    {
     "name": "stderr",
     "output_type": "stream",
     "text": [
      "C:\\Users\\35385\\AppData\\Local\\Temp/ipykernel_8316/791334645.py:1: SettingWithCopyWarning: \n",
      "A value is trying to be set on a copy of a slice from a DataFrame.\n",
      "Try using .loc[row_indexer,col_indexer] = value instead\n",
      "\n",
      "See the caveats in the documentation: https://pandas.pydata.org/pandas-docs/stable/user_guide/indexing.html#returning-a-view-versus-a-copy\n",
      "  playstore_final['genre']= playstore_final['genre'].str.strip()\n"
     ]
    }
   ],
   "source": [
    "playstore_final['genre']= playstore_final['genre'].str.strip()"
   ]
  },
  {
   "cell_type": "code",
   "execution_count": 242,
   "metadata": {},
   "outputs": [
    {
     "name": "stdout",
     "output_type": "stream",
     "text": [
      "<class 'pandas.core.frame.DataFrame'>\n",
      "Int64Index: 12018 entries, 0 to 35742\n",
      "Data columns (total 13 columns):\n",
      " #   Column           Non-Null Count  Dtype         \n",
      "---  ------           --------------  -----         \n",
      " 0   last_updated     12018 non-null  datetime64[ns]\n",
      " 1   reviews          12018 non-null  int32         \n",
      " 2   content_rating   12018 non-null  object        \n",
      " 3   price            12018 non-null  float64       \n",
      " 4   type             12017 non-null  object        \n",
      " 5   size             10105 non-null  float64       \n",
      " 6   android_version  12016 non-null  object        \n",
      " 7   app              12018 non-null  object        \n",
      " 8   rating           10444 non-null  float64       \n",
      " 9   category         12018 non-null  object        \n",
      " 10  current_version  12010 non-null  object        \n",
      " 11  installs         12018 non-null  object        \n",
      " 12  genre            12018 non-null  object        \n",
      "dtypes: datetime64[ns](1), float64(3), int32(1), object(8)\n",
      "memory usage: 1.2+ MB\n"
     ]
    }
   ],
   "source": [
    "playstore_final.info()"
   ]
  },
  {
   "cell_type": "code",
   "execution_count": 243,
   "metadata": {},
   "outputs": [
    {
     "data": {
      "text/plain": [
       "array(['Art and Design', 'Auto and Vehicles', 'Beauty',\n",
       "       'Books and Reference', 'Business', 'Comics', 'Communication',\n",
       "       'Dating', 'Education', 'Entertainment', 'Events', 'Finance',\n",
       "       'Food and Drink', 'Health and Fitness', 'House and Home',\n",
       "       'Libraries and Demo', 'Lifestyle', 'Adventure', 'Arcade', 'Casual',\n",
       "       'Card', 'Action', 'Strategy', 'Puzzle', 'Sports', 'Music', 'Word',\n",
       "       'Racing', 'Simulation', 'Board', 'Trivia', 'Role Playing',\n",
       "       'Educational', 'Video Players and Editors', 'Medical', 'Social',\n",
       "       'Shopping', 'Photography', 'Travel', 'Tools', 'Personalization',\n",
       "       'Productivity', 'Parenting', 'Weather', 'News',\n",
       "       'Maps and Navigation', 'Casino', 'Pretend Play', 'Creativity',\n",
       "       'Music and Video', 'Brain Games', 'Audio', 'Local', 'Magazines'],\n",
       "      dtype=object)"
      ]
     },
     "execution_count": 243,
     "metadata": {},
     "output_type": "execute_result"
    }
   ],
   "source": [
    "playstore_final['genre'].unique()"
   ]
  }
 ],
 "metadata": {
  "interpreter": {
   "hash": "11719158a86894d7808c2c8a635753faff182b16ee77c15d5c4e038f9341cbce"
  },
  "kernelspec": {
   "display_name": "Python 3.9.10 64-bit (windows store)",
   "language": "python",
   "name": "python3"
  },
  "language_info": {
   "codemirror_mode": {
    "name": "ipython",
    "version": 3
   },
   "file_extension": ".py",
   "mimetype": "text/x-python",
   "name": "python",
   "nbconvert_exporter": "python",
   "pygments_lexer": "ipython3",
   "version": "3.9.7"
  },
  "orig_nbformat": 4
 },
 "nbformat": 4,
 "nbformat_minor": 2
}
