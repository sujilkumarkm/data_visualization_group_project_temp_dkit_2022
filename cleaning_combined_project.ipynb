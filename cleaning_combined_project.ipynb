{
 "cells": [
  {
   "cell_type": "code",
   "execution_count": 415,
   "metadata": {},
   "outputs": [],
   "source": [
    "import pandas as pd\n",
    "import os\n",
    "import requests\n",
    "import io\n",
    "import numpy as np"
   ]
  },
  {
   "cell_type": "code",
   "execution_count": 416,
   "metadata": {},
   "outputs": [
    {
     "name": "stdout",
     "output_type": "stream",
     "text": [
      "                                                 App        Category  Rating  \\\n",
      "0     Photo Editor & Candy Camera & Grid & ScrapBook  ART_AND_DESIGN     4.1   \n",
      "1                                Coloring book moana  ART_AND_DESIGN     3.9   \n",
      "2  U Launcher Lite – FREE Live Cool Themes, Hide ...  ART_AND_DESIGN     4.7   \n",
      "3                              Sketch - Draw & Paint  ART_AND_DESIGN     4.5   \n",
      "4              Pixel Draw - Number Art Coloring Book  ART_AND_DESIGN     4.3   \n",
      "\n",
      "  Reviews  Size     Installs  Type Price Content Rating  \\\n",
      "0     159   19M      10,000+  Free     0       Everyone   \n",
      "1     967   14M     500,000+  Free     0       Everyone   \n",
      "2   87510  8.7M   5,000,000+  Free     0       Everyone   \n",
      "3  215644   25M  50,000,000+  Free     0           Teen   \n",
      "4     967  2.8M     100,000+  Free     0       Everyone   \n",
      "\n",
      "                      Genres      Last Updated         Current Ver  \\\n",
      "0               Art & Design   January 7, 2018               1.0.0   \n",
      "1  Art & Design;Pretend Play  January 15, 2018               2.0.0   \n",
      "2               Art & Design    August 1, 2018               1.2.4   \n",
      "3               Art & Design      June 8, 2018  Varies with device   \n",
      "4    Art & Design;Creativity     June 20, 2018                 1.1   \n",
      "\n",
      "    Android Ver  \n",
      "0  4.0.3 and up  \n",
      "1  4.0.3 and up  \n",
      "2  4.0.3 and up  \n",
      "3    4.2 and up  \n",
      "4    4.4 and up  \n"
     ]
    }
   ],
   "source": [
    "# Change the directory to your local directory before running the code\n",
    "#os.chdir('D:\\\\DKIT\\\\combined_project\\\\data_visualization_group_project_temp_dkit_2022\\\\')\n",
    "\n",
    "# Downloading the csv file from the GitHub account\n",
    "url = \"https://raw.githubusercontent.com/sujilkumarkm/data_visualization_group_project_temp_dkit_2022/master/googleplaystore.csv\"\n",
    "download = requests.get(url).content\n",
    "\n",
    "# Reading the downloaded content and converting it into a pandas dataframe\n",
    "playstore = pd.read_csv(io.StringIO(download.decode('utf-8')))\n",
    "\n",
    "# Printing out the first 5 rows of the dataframe\n",
    "print (playstore.head())\n"
   ]
  },
  {
   "cell_type": "code",
   "execution_count": 417,
   "metadata": {},
   "outputs": [
    {
     "name": "stdout",
     "output_type": "stream",
     "text": [
      "<class 'pandas.core.frame.DataFrame'>\n",
      "RangeIndex: 10841 entries, 0 to 10840\n",
      "Data columns (total 13 columns):\n",
      " #   Column          Non-Null Count  Dtype  \n",
      "---  ------          --------------  -----  \n",
      " 0   App             10841 non-null  object \n",
      " 1   Category        10841 non-null  object \n",
      " 2   Rating          9367 non-null   float64\n",
      " 3   Reviews         10841 non-null  object \n",
      " 4   Size            10841 non-null  object \n",
      " 5   Installs        10841 non-null  object \n",
      " 6   Type            10840 non-null  object \n",
      " 7   Price           10841 non-null  object \n",
      " 8   Content Rating  10840 non-null  object \n",
      " 9   Genres          10841 non-null  object \n",
      " 10  Last Updated    10841 non-null  object \n",
      " 11  Current Ver     10833 non-null  object \n",
      " 12  Android Ver     10838 non-null  object \n",
      "dtypes: float64(1), object(12)\n",
      "memory usage: 1.1+ MB\n",
      "None\n"
     ]
    }
   ],
   "source": [
    "print(playstore.info())"
   ]
  },
  {
   "cell_type": "code",
   "execution_count": 418,
   "metadata": {},
   "outputs": [
    {
     "name": "stdout",
     "output_type": "stream",
     "text": [
      "<class 'pandas.core.frame.DataFrame'>\n",
      "Int64Index: 10358 entries, 0 to 10840\n",
      "Data columns (total 13 columns):\n",
      " #   Column          Non-Null Count  Dtype  \n",
      "---  ------          --------------  -----  \n",
      " 0   App             10358 non-null  object \n",
      " 1   Category        10358 non-null  object \n",
      " 2   Rating          8893 non-null   float64\n",
      " 3   Reviews         10358 non-null  object \n",
      " 4   Size            10358 non-null  object \n",
      " 5   Installs        10358 non-null  object \n",
      " 6   Type            10357 non-null  object \n",
      " 7   Price           10358 non-null  object \n",
      " 8   Content Rating  10357 non-null  object \n",
      " 9   Genres          10358 non-null  object \n",
      " 10  Last Updated    10358 non-null  object \n",
      " 11  Current Ver     10350 non-null  object \n",
      " 12  Android Ver     10355 non-null  object \n",
      "dtypes: float64(1), object(12)\n",
      "memory usage: 1.1+ MB\n",
      "None\n"
     ]
    }
   ],
   "source": [
    "#deleting duplicates\n",
    "playstore.drop_duplicates(keep='first',inplace=True)\n",
    "print(playstore.info())"
   ]
  },
  {
   "cell_type": "code",
   "execution_count": 419,
   "metadata": {},
   "outputs": [],
   "source": [
    "# Changing the column names.\n",
    "playstore.rename(columns = {\"App\":\"app\",\"Category\":\"category\", \"Rating\":\"rating\", \"Reviews\":\"reviews\", \"Size\":\"size\", \"Installs\":\"installs\", \"Type\":\"type\", \"Price\":\"price\", \"Content Rating\":\"content_rating\", \"Genres\":\"genres\",\"Last Updated\":\"last_updated\",\"Current Ver\":\"current_version\",\"Android Ver\":\"android_version\"}, inplace = True)"
   ]
  },
  {
   "cell_type": "code",
   "execution_count": 420,
   "metadata": {},
   "outputs": [
    {
     "name": "stdout",
     "output_type": "stream",
     "text": [
      "<class 'pandas.core.frame.DataFrame'>\n",
      "Int64Index: 10358 entries, 0 to 10840\n",
      "Data columns (total 13 columns):\n",
      " #   Column           Non-Null Count  Dtype  \n",
      "---  ------           --------------  -----  \n",
      " 0   app              10358 non-null  object \n",
      " 1   category         10358 non-null  object \n",
      " 2   rating           8893 non-null   float64\n",
      " 3   reviews          10358 non-null  object \n",
      " 4   size             10358 non-null  object \n",
      " 5   installs         10358 non-null  object \n",
      " 6   type             10357 non-null  object \n",
      " 7   price            10358 non-null  object \n",
      " 8   content_rating   10357 non-null  object \n",
      " 9   genres           10358 non-null  object \n",
      " 10  last_updated     10358 non-null  object \n",
      " 11  current_version  10350 non-null  object \n",
      " 12  android_version  10355 non-null  object \n",
      "dtypes: float64(1), object(12)\n",
      "memory usage: 1.1+ MB\n",
      "None\n"
     ]
    }
   ],
   "source": [
    "print(playstore.info())"
   ]
  },
  {
   "cell_type": "code",
   "execution_count": 421,
   "metadata": {},
   "outputs": [
    {
     "name": "stdout",
     "output_type": "stream",
     "text": [
      "['4.0.3 and up' '4.2 and up' '4.4 and up' '2.3 and up' '3.0 and up'\n",
      " '4.1 and up' '4.0 and up' '2.3.3 and up' 'Varies with device'\n",
      " '2.2 and up' '5.0 and up' '6.0 and up' '1.6 and up' '1.5 and up'\n",
      " '2.1 and up' '7.0 and up' '5.1 and up' '4.3 and up' '4.0.3 - 7.1.1'\n",
      " '2.0 and up' '3.2 and up' '4.4W and up' '7.1 and up' '7.0 - 7.1.1'\n",
      " '8.0 and up' '5.0 - 8.0' '3.1 and up' '2.0.1 and up' '4.1 - 7.1.1' nan\n",
      " '5.0 - 6.0' '1.0 and up' '2.2 - 7.1.1' '5.0 - 7.1.1']\n"
     ]
    }
   ],
   "source": [
    "# getting unique android version\n",
    "print(playstore['android_version'].unique())"
   ]
  },
  {
   "cell_type": "code",
   "execution_count": 422,
   "metadata": {},
   "outputs": [
    {
     "name": "stdout",
     "output_type": "stream",
     "text": [
      "['4.0.3' '4.2' '4.4' '2.3' '3.0' '4.1' '4.0' '2.3.3' 'Varies with device'\n",
      " '2.2' '5.0' '6.0' '1.6' '1.5' '2.1' '7.0' '5.1' '4.3' '2.0' '3.2' '7.1'\n",
      " '8.0' '3.1' '2.0.1' nan '1.0']\n"
     ]
    },
    {
     "name": "stderr",
     "output_type": "stream",
     "text": [
      "C:\\Users\\ravic\\AppData\\Local\\Temp/ipykernel_22236/1856555641.py:3: FutureWarning: The default value of regex will change from True to False in a future version.\n",
      "  playstore['android_version'] = playstore['android_version'].str.replace('4.4W','4.4')\n",
      "C:\\Users\\ravic\\AppData\\Local\\Temp/ipykernel_22236/1856555641.py:4: FutureWarning: The default value of regex will change from True to False in a future version.\n",
      "  playstore['android_version'] = playstore['android_version'].str.replace('- 7.1.1','')\n",
      "C:\\Users\\ravic\\AppData\\Local\\Temp/ipykernel_22236/1856555641.py:5: FutureWarning: The default value of regex will change from True to False in a future version.\n",
      "  playstore['android_version'] = playstore['android_version'].str.replace('- 8.0','')\n",
      "C:\\Users\\ravic\\AppData\\Local\\Temp/ipykernel_22236/1856555641.py:6: FutureWarning: The default value of regex will change from True to False in a future version.\n",
      "  playstore['android_version'] = playstore['android_version'].str.replace('- 6.0','')\n"
     ]
    }
   ],
   "source": [
    "# clearning the data in the column\n",
    "playstore['android_version'] = playstore['android_version'].str.replace('and up','')\n",
    "playstore['android_version'] = playstore['android_version'].str.replace('4.4W','4.4')\n",
    "playstore['android_version'] = playstore['android_version'].str.replace('- 7.1.1','')\n",
    "playstore['android_version'] = playstore['android_version'].str.replace('- 8.0','')\n",
    "playstore['android_version'] = playstore['android_version'].str.replace('- 6.0','')\n",
    "playstore['android_version'] = playstore['android_version'].str.strip()\n",
    "print(playstore['android_version'].unique())"
   ]
  },
  {
   "cell_type": "code",
   "execution_count": 423,
   "metadata": {},
   "outputs": [
    {
     "name": "stdout",
     "output_type": "stream",
     "text": [
      "['Everyone' 'Teen' 'Everyone 10+' 'Mature 17+' 'Adults only 18+' 'Unrated'\n",
      " nan]\n"
     ]
    }
   ],
   "source": [
    "# Changing column \"content_rating\"\n",
    "print(playstore[\"content_rating\"].unique())"
   ]
  },
  {
   "cell_type": "code",
   "execution_count": 424,
   "metadata": {},
   "outputs": [],
   "source": [
    "# clearning the data in the cell\n",
    "playstore[\"content_rating\"] = playstore[\"content_rating\"].str.replace('Everyone 10', '10')\n",
    "playstore[\"content_rating\"] = playstore[\"content_rating\"].str.replace('Mature 17', '17')\n",
    "playstore[\"content_rating\"] = playstore[\"content_rating\"].str.replace('Adults only 18', '18')"
   ]
  },
  {
   "cell_type": "code",
   "execution_count": 425,
   "metadata": {},
   "outputs": [
    {
     "name": "stdout",
     "output_type": "stream",
     "text": [
      "['Everyone' 'Teen' '10+' '17+' '18+' 'Unrated' nan]\n"
     ]
    }
   ],
   "source": [
    "print(playstore[\"content_rating\"].unique())"
   ]
  },
  {
   "cell_type": "code",
   "execution_count": 426,
   "metadata": {},
   "outputs": [
    {
     "name": "stderr",
     "output_type": "stream",
     "text": [
      "C:\\Users\\ravic\\AppData\\Local\\Temp/ipykernel_22236/3643563530.py:4: FutureWarning: The default value of regex will change from True to False in a future version. In addition, single character regular expressions will *not* be treated as literal strings when regex=True.\n",
      "  playstore[\"installs\"] = playstore[\"installs\"].str.replace('+', '')\n"
     ]
    }
   ],
   "source": [
    "# Changing \"installs\" column \n",
    "playstore[\"installs\"] = playstore[\"installs\"].str.replace('Free', 'np.nan')\n",
    "playstore[\"installs\"] = playstore[\"installs\"].str.replace(',', '')\n",
    "playstore[\"installs\"] = playstore[\"installs\"].str.replace('+', '')"
   ]
  },
  {
   "cell_type": "code",
   "execution_count": 427,
   "metadata": {},
   "outputs": [
    {
     "name": "stdout",
     "output_type": "stream",
     "text": [
      "['10000' '500000' '5000000' '50000000' '100000' '50000' '1000000'\n",
      " '10000000' '5000' '100000000' '1000000000' '1000' '500000000' '50' '100'\n",
      " '500' '10' '1' '5' '0' 'np.nan']\n"
     ]
    }
   ],
   "source": [
    "# getting unique values from installs\n",
    "print(playstore[\"installs\"].unique())"
   ]
  },
  {
   "cell_type": "code",
   "execution_count": 428,
   "metadata": {},
   "outputs": [
    {
     "name": "stderr",
     "output_type": "stream",
     "text": [
      "C:\\Users\\ravic\\AppData\\Local\\Temp/ipykernel_22236/2310286181.py:3: FutureWarning: The default value of regex will change from True to False in a future version. In addition, single character regular expressions will *not* be treated as literal strings when regex=True.\n",
      "  playstore['price'] = playstore['price'].str.replace('$','')\n"
     ]
    },
    {
     "data": {
      "text/plain": [
       "array([  0.  ,   4.99,   3.99,   6.99,   1.49,   2.99,   7.99,   5.99,\n",
       "         3.49,   1.99,   9.99,   7.49,   0.99,   9.  ,   5.49,  10.  ,\n",
       "        24.99,  11.99,  79.99,  16.99,  14.99,   1.  ,  29.99,  12.99,\n",
       "         2.49,  10.99,   1.5 ,  19.99,  15.99,  33.99,  74.99,  39.99,\n",
       "         3.95,   4.49,   1.7 ,   8.99,   2.  ,   3.88,  25.99, 399.99,\n",
       "        17.99, 400.  ,   3.02,   1.76,   4.84,   4.77,   1.61,   2.5 ,\n",
       "         1.59,   6.49,   1.29,   5.  ,  13.99, 299.99, 379.99,  37.99,\n",
       "        18.99, 389.99,  19.9 ,   8.49,   1.75,  14.  ,   4.85,  46.99,\n",
       "       109.99, 154.99,   3.08,   2.59,   4.8 ,   1.96,  19.4 ,   3.9 ,\n",
       "         4.59,  15.46,   3.04,   4.29,   2.6 ,   3.28,   4.6 ,  28.99,\n",
       "         2.95,   2.9 ,   1.97, 200.  ,  89.99,   2.56,  30.99,   3.61,\n",
       "       394.99,   1.26,   1.2 ,   1.04])"
      ]
     },
     "execution_count": 428,
     "metadata": {},
     "output_type": "execute_result"
    }
   ],
   "source": [
    "# clearning the data in the cell\n",
    "playstore['price'] = playstore['price'].str.replace('Everyone','0')\n",
    "playstore['price'] = playstore['price'].str.replace('$','')\n",
    "playstore['price'] = playstore['price'].astype(float)\n",
    "playstore['price'].unique()"
   ]
  },
  {
   "cell_type": "code",
   "execution_count": 429,
   "metadata": {},
   "outputs": [
    {
     "name": "stdout",
     "output_type": "stream",
     "text": [
      "<class 'pandas.core.frame.DataFrame'>\n",
      "Int64Index: 10358 entries, 0 to 10840\n",
      "Data columns (total 13 columns):\n",
      " #   Column           Non-Null Count  Dtype  \n",
      "---  ------           --------------  -----  \n",
      " 0   app              10358 non-null  object \n",
      " 1   category         10358 non-null  object \n",
      " 2   rating           8893 non-null   float64\n",
      " 3   reviews          10358 non-null  object \n",
      " 4   size             10358 non-null  object \n",
      " 5   installs         10358 non-null  object \n",
      " 6   type             10357 non-null  object \n",
      " 7   price            10358 non-null  float64\n",
      " 8   content_rating   10357 non-null  object \n",
      " 9   genres           10358 non-null  object \n",
      " 10  last_updated     10358 non-null  object \n",
      " 11  current_version  10350 non-null  object \n",
      " 12  android_version  10355 non-null  object \n",
      "dtypes: float64(2), object(11)\n",
      "memory usage: 1.1+ MB\n",
      "None\n"
     ]
    }
   ],
   "source": [
    "print(playstore.info())"
   ]
  },
  {
   "cell_type": "code",
   "execution_count": 430,
   "metadata": {},
   "outputs": [
    {
     "name": "stderr",
     "output_type": "stream",
     "text": [
      "C:\\Users\\ravic\\AppData\\Local\\Temp/ipykernel_22236/3872007443.py:3: FutureWarning: The default value of regex will change from True to False in a future version. In addition, single character regular expressions will *not* be treated as literal strings when regex=True.\n",
      "  playstore['size'] = playstore['size'].str.replace('+','k')\n"
     ]
    }
   ],
   "source": [
    "# converting MB to KB\n",
    "playstore['size'] = playstore['size'].replace('Varies with device',np.nan)\n",
    "playstore['size'] = playstore['size'].str.replace('+','k')\n",
    "playstore['size'] = playstore['size'].str.replace('k',' k')\n",
    "playstore['size'] = playstore['size'].str.replace('M',' M')\n",
    "playstore[['size','fsize']] = playstore['size'].str.split(' ',1,expand = True)\n",
    "playstore['size'] = playstore['size'].str.replace(',','')\n",
    "playstore['size'] = playstore['size'].astype(float)\n",
    "playstore['size'] = np.where(playstore['fsize'] == 'M',playstore['size']*1000,playstore['size'])"
   ]
  },
  {
   "cell_type": "code",
   "execution_count": 431,
   "metadata": {},
   "outputs": [],
   "source": [
    "# replacing unknow date in last updated column\n",
    "playstore['last_updated'] = playstore['last_updated'].replace('1.0.19',np.nan)\n",
    "# setting datatype date to last updated column\n",
    "playstore['last_updated'] = pd.to_datetime(playstore['last_updated'],format = '%B %d, %Y')"
   ]
  },
  {
   "cell_type": "code",
   "execution_count": 432,
   "metadata": {},
   "outputs": [
    {
     "name": "stdout",
     "output_type": "stream",
     "text": [
      "<class 'pandas.core.frame.DataFrame'>\n",
      "Int64Index: 10358 entries, 0 to 10840\n",
      "Data columns (total 14 columns):\n",
      " #   Column           Non-Null Count  Dtype         \n",
      "---  ------           --------------  -----         \n",
      " 0   app              10358 non-null  object        \n",
      " 1   category         10358 non-null  object        \n",
      " 2   rating           8893 non-null   float64       \n",
      " 3   reviews          10358 non-null  object        \n",
      " 4   size             8832 non-null   float64       \n",
      " 5   installs         10358 non-null  object        \n",
      " 6   type             10357 non-null  object        \n",
      " 7   price            10358 non-null  float64       \n",
      " 8   content_rating   10357 non-null  object        \n",
      " 9   genres           10358 non-null  object        \n",
      " 10  last_updated     10357 non-null  datetime64[ns]\n",
      " 11  current_version  10350 non-null  object        \n",
      " 12  android_version  10355 non-null  object        \n",
      " 13  fsize            8832 non-null   object        \n",
      "dtypes: datetime64[ns](1), float64(3), object(10)\n",
      "memory usage: 1.2+ MB\n",
      "None\n"
     ]
    }
   ],
   "source": [
    "print(playstore.info())"
   ]
  },
  {
   "cell_type": "code",
   "execution_count": 433,
   "metadata": {},
   "outputs": [],
   "source": [
    "# dropping temporary column fsize\n",
    "playstore.drop('fsize',axis=1,inplace = True)"
   ]
  },
  {
   "cell_type": "code",
   "execution_count": 434,
   "metadata": {},
   "outputs": [
    {
     "name": "stdout",
     "output_type": "stream",
     "text": [
      "<class 'pandas.core.frame.DataFrame'>\n",
      "Int64Index: 10358 entries, 0 to 10840\n",
      "Data columns (total 13 columns):\n",
      " #   Column           Non-Null Count  Dtype         \n",
      "---  ------           --------------  -----         \n",
      " 0   app              10358 non-null  object        \n",
      " 1   category         10358 non-null  object        \n",
      " 2   rating           8893 non-null   float64       \n",
      " 3   reviews          10358 non-null  object        \n",
      " 4   size             8832 non-null   float64       \n",
      " 5   installs         10358 non-null  object        \n",
      " 6   type             10357 non-null  object        \n",
      " 7   price            10358 non-null  float64       \n",
      " 8   content_rating   10357 non-null  object        \n",
      " 9   genres           10358 non-null  object        \n",
      " 10  last_updated     10357 non-null  datetime64[ns]\n",
      " 11  current_version  10350 non-null  object        \n",
      " 12  android_version  10355 non-null  object        \n",
      "dtypes: datetime64[ns](1), float64(3), object(9)\n",
      "memory usage: 1.1+ MB\n",
      "None\n"
     ]
    }
   ],
   "source": [
    "print(playstore.info())"
   ]
  },
  {
   "cell_type": "code",
   "execution_count": 435,
   "metadata": {},
   "outputs": [],
   "source": [
    "# converting 3m to three million reviews\n",
    "playstore['reviews'] = playstore['reviews'].replace('3.0M','3000000')\n",
    "# changing datatype of reviews to int\n",
    "playstore['reviews'] = playstore['reviews'].astype(int)"
   ]
  },
  {
   "cell_type": "code",
   "execution_count": 436,
   "metadata": {},
   "outputs": [
    {
     "name": "stdout",
     "output_type": "stream",
     "text": [
      "<class 'pandas.core.frame.DataFrame'>\n",
      "Int64Index: 10358 entries, 0 to 10840\n",
      "Data columns (total 13 columns):\n",
      " #   Column           Non-Null Count  Dtype         \n",
      "---  ------           --------------  -----         \n",
      " 0   app              10358 non-null  object        \n",
      " 1   category         10358 non-null  object        \n",
      " 2   rating           8893 non-null   float64       \n",
      " 3   reviews          10358 non-null  int32         \n",
      " 4   size             8832 non-null   float64       \n",
      " 5   installs         10358 non-null  object        \n",
      " 6   type             10357 non-null  object        \n",
      " 7   price            10358 non-null  float64       \n",
      " 8   content_rating   10357 non-null  object        \n",
      " 9   genres           10358 non-null  object        \n",
      " 10  last_updated     10357 non-null  datetime64[ns]\n",
      " 11  current_version  10350 non-null  object        \n",
      " 12  android_version  10355 non-null  object        \n",
      "dtypes: datetime64[ns](1), float64(3), int32(1), object(8)\n",
      "memory usage: 1.1+ MB\n",
      "None\n"
     ]
    }
   ],
   "source": [
    "print(playstore.info())"
   ]
  },
  {
   "cell_type": "code",
   "execution_count": 437,
   "metadata": {},
   "outputs": [
    {
     "name": "stdout",
     "output_type": "stream",
     "text": [
      "['Art & Design' 'Art & Design;Pretend Play' 'Art & Design;Creativity'\n",
      " 'Art & Design;Action & Adventure' 'Auto & Vehicles' 'Beauty'\n",
      " 'Books & Reference' 'Business' 'Comics' 'Comics;Creativity'\n",
      " 'Communication' 'Dating' 'Education;Education' 'Education'\n",
      " 'Education;Creativity' 'Education;Music & Video'\n",
      " 'Education;Action & Adventure' 'Education;Pretend Play'\n",
      " 'Education;Brain Games' 'Entertainment' 'Entertainment;Music & Video'\n",
      " 'Entertainment;Brain Games' 'Entertainment;Creativity' 'Events' 'Finance'\n",
      " 'Food & Drink' 'Health & Fitness' 'House & Home' 'Libraries & Demo'\n",
      " 'Lifestyle' 'Lifestyle;Pretend Play' 'Adventure;Action & Adventure'\n",
      " 'Arcade' 'Casual' 'Card' 'Casual;Pretend Play' 'Action' 'Strategy'\n",
      " 'Puzzle' 'Sports' 'Music' 'Word' 'Racing' 'Casual;Creativity'\n",
      " 'Casual;Action & Adventure' 'Simulation' 'Adventure' 'Board' 'Trivia'\n",
      " 'Role Playing' 'Simulation;Education' 'Action;Action & Adventure'\n",
      " 'Casual;Brain Games' 'Simulation;Action & Adventure'\n",
      " 'Educational;Creativity' 'Puzzle;Brain Games' 'Educational;Education'\n",
      " 'Card;Brain Games' 'Educational;Brain Games' 'Educational;Pretend Play'\n",
      " 'Entertainment;Education' 'Casual;Education' 'Music;Music & Video'\n",
      " 'Racing;Action & Adventure' 'Arcade;Pretend Play'\n",
      " 'Role Playing;Action & Adventure' 'Simulation;Pretend Play'\n",
      " 'Puzzle;Creativity' 'Sports;Action & Adventure'\n",
      " 'Educational;Action & Adventure' 'Arcade;Action & Adventure'\n",
      " 'Entertainment;Action & Adventure' 'Puzzle;Action & Adventure'\n",
      " 'Strategy;Action & Adventure' 'Music & Audio;Music & Video'\n",
      " 'Health & Fitness;Education' 'Adventure;Education' 'Board;Brain Games'\n",
      " 'Board;Action & Adventure' 'Board;Pretend Play' 'Casual;Music & Video'\n",
      " 'Role Playing;Pretend Play' 'Entertainment;Pretend Play'\n",
      " 'Video Players & Editors;Creativity' 'Card;Action & Adventure' 'Medical'\n",
      " 'Social' 'Shopping' 'Photography' 'Travel & Local'\n",
      " 'Travel & Local;Action & Adventure' 'Tools' 'Tools;Education'\n",
      " 'Personalization' 'Productivity' 'Parenting' 'Parenting;Music & Video'\n",
      " 'Parenting;Education' 'Parenting;Brain Games' 'Weather'\n",
      " 'Video Players & Editors' 'Video Players & Editors;Music & Video'\n",
      " 'News & Magazines' 'Maps & Navigation'\n",
      " 'Health & Fitness;Action & Adventure' 'Educational' 'Casino'\n",
      " 'Adventure;Brain Games' 'Trivia;Education' 'Lifestyle;Education'\n",
      " 'Books & Reference;Creativity' 'Books & Reference;Education'\n",
      " 'Puzzle;Education' 'Role Playing;Education' 'Role Playing;Brain Games'\n",
      " 'Strategy;Education' 'Racing;Pretend Play' 'Communication;Creativity'\n",
      " 'February 11, 2018' 'Strategy;Creativity']\n"
     ]
    }
   ],
   "source": [
    "print(playstore['genres'].unique())"
   ]
  },
  {
   "cell_type": "code",
   "execution_count": 438,
   "metadata": {},
   "outputs": [],
   "source": [
    "# replacing with NaN\n",
    "playstore['genres'] = playstore['genres'].replace('February 11, 2018',np.nan)"
   ]
  },
  {
   "cell_type": "code",
   "execution_count": 439,
   "metadata": {},
   "outputs": [],
   "source": [
    "# renaming the genre names\n",
    "playstore['genres'] = playstore['genres'].str.replace('Health & Fitness','Health and Fitness')\n",
    "playstore['genres'] = playstore['genres'].str.replace('Art & Design','Art and Design')\n",
    "playstore['genres'] = playstore['genres'].str.replace('Auto & Vehicles','Auto and Vehicles')\n",
    "playstore['genres'] = playstore['genres'].str.replace('Books & Reference','Books and Reference')\n",
    "playstore['genres'] = playstore['genres'].str.replace('Music & Video','Music and Video')\n",
    "playstore['genres'] = playstore['genres'].str.replace('Food & Drink','Food and Drink')\n",
    "playstore['genres'] = playstore['genres'].str.replace('Video Players & Editors','Video Players and Editors')\n",
    "playstore['genres'] = playstore['genres'].str.replace('Maps & Navigation','Maps and Navigation')\n",
    "playstore['genres'] = playstore['genres'].str.replace('House & Home','House and Home')\n",
    "playstore['genres'] = playstore['genres'].str.replace('Libraries & Demo','Libraries and Demo')"
   ]
  },
  {
   "cell_type": "code",
   "execution_count": 440,
   "metadata": {},
   "outputs": [
    {
     "name": "stdout",
     "output_type": "stream",
     "text": [
      "<class 'pandas.core.frame.DataFrame'>\n",
      "Int64Index: 10358 entries, 0 to 10840\n",
      "Data columns (total 13 columns):\n",
      " #   Column           Non-Null Count  Dtype         \n",
      "---  ------           --------------  -----         \n",
      " 0   app              10358 non-null  object        \n",
      " 1   category         10358 non-null  object        \n",
      " 2   rating           8893 non-null   float64       \n",
      " 3   reviews          10358 non-null  int32         \n",
      " 4   size             8832 non-null   float64       \n",
      " 5   installs         10358 non-null  object        \n",
      " 6   type             10357 non-null  object        \n",
      " 7   price            10358 non-null  float64       \n",
      " 8   content_rating   10357 non-null  object        \n",
      " 9   genres           10357 non-null  object        \n",
      " 10  last_updated     10357 non-null  datetime64[ns]\n",
      " 11  current_version  10350 non-null  object        \n",
      " 12  android_version  10355 non-null  object        \n",
      "dtypes: datetime64[ns](1), float64(3), int32(1), object(8)\n",
      "memory usage: 1.1+ MB\n",
      "None\n"
     ]
    }
   ],
   "source": [
    "print(playstore.info())"
   ]
  },
  {
   "cell_type": "code",
   "execution_count": 441,
   "metadata": {},
   "outputs": [
    {
     "data": {
      "text/plain": [
       "array(['Art and Design', 'Art and Design;Pretend Play',\n",
       "       'Art and Design;Creativity', 'Art and Design;Action & Adventure',\n",
       "       'Auto and Vehicles', 'Beauty', 'Books and Reference', 'Business',\n",
       "       'Comics', 'Comics;Creativity', 'Communication', 'Dating',\n",
       "       'Education;Education', 'Education', 'Education;Creativity',\n",
       "       'Education;Music and Video', 'Education;Action & Adventure',\n",
       "       'Education;Pretend Play', 'Education;Brain Games', 'Entertainment',\n",
       "       'Entertainment;Music and Video', 'Entertainment;Brain Games',\n",
       "       'Entertainment;Creativity', 'Events', 'Finance', 'Food and Drink',\n",
       "       'Health and Fitness', 'House and Home', 'Libraries and Demo',\n",
       "       'Lifestyle', 'Lifestyle;Pretend Play',\n",
       "       'Adventure;Action & Adventure', 'Arcade', 'Casual', 'Card',\n",
       "       'Casual;Pretend Play', 'Action', 'Strategy', 'Puzzle', 'Sports',\n",
       "       'Music', 'Word', 'Racing', 'Casual;Creativity',\n",
       "       'Casual;Action & Adventure', 'Simulation', 'Adventure', 'Board',\n",
       "       'Trivia', 'Role Playing', 'Simulation;Education',\n",
       "       'Action;Action & Adventure', 'Casual;Brain Games',\n",
       "       'Simulation;Action & Adventure', 'Educational;Creativity',\n",
       "       'Puzzle;Brain Games', 'Educational;Education', 'Card;Brain Games',\n",
       "       'Educational;Brain Games', 'Educational;Pretend Play',\n",
       "       'Entertainment;Education', 'Casual;Education',\n",
       "       'Music;Music and Video', 'Racing;Action & Adventure',\n",
       "       'Arcade;Pretend Play', 'Role Playing;Action & Adventure',\n",
       "       'Simulation;Pretend Play', 'Puzzle;Creativity',\n",
       "       'Sports;Action & Adventure', 'Educational;Action & Adventure',\n",
       "       'Arcade;Action & Adventure', 'Entertainment;Action & Adventure',\n",
       "       'Puzzle;Action & Adventure', 'Strategy;Action & Adventure',\n",
       "       'Music & Audio;Music and Video', 'Health and Fitness;Education',\n",
       "       'Adventure;Education', 'Board;Brain Games',\n",
       "       'Board;Action & Adventure', 'Board;Pretend Play',\n",
       "       'Casual;Music and Video', 'Role Playing;Pretend Play',\n",
       "       'Entertainment;Pretend Play',\n",
       "       'Video Players and Editors;Creativity', 'Card;Action & Adventure',\n",
       "       'Medical', 'Social', 'Shopping', 'Photography', 'Travel & Local',\n",
       "       'Travel & Local;Action & Adventure', 'Tools', 'Tools;Education',\n",
       "       'Personalization', 'Productivity', 'Parenting',\n",
       "       'Parenting;Music and Video', 'Parenting;Education',\n",
       "       'Parenting;Brain Games', 'Weather', 'Video Players and Editors',\n",
       "       'Video Players and Editors;Music and Video', 'News & Magazines',\n",
       "       'Maps and Navigation', 'Health and Fitness;Action & Adventure',\n",
       "       'Educational', 'Casino', 'Adventure;Brain Games',\n",
       "       'Trivia;Education', 'Lifestyle;Education',\n",
       "       'Books and Reference;Creativity', 'Books and Reference;Education',\n",
       "       'Puzzle;Education', 'Role Playing;Education',\n",
       "       'Role Playing;Brain Games', 'Strategy;Education',\n",
       "       'Racing;Pretend Play', 'Communication;Creativity', nan,\n",
       "       'Strategy;Creativity'], dtype=object)"
      ]
     },
     "execution_count": 441,
     "metadata": {},
     "output_type": "execute_result"
    }
   ],
   "source": [
    "# checking unique genres\n",
    "playstore['genres'].unique()"
   ]
  },
  {
   "cell_type": "code",
   "execution_count": 442,
   "metadata": {},
   "outputs": [
    {
     "data": {
      "text/plain": [
       "array(['Art and Design', 'Art and Design,Pretend Play',\n",
       "       'Art and Design,Creativity', 'Art and Design,Action , Adventure',\n",
       "       'Auto and Vehicles', 'Beauty', 'Books and Reference', 'Business',\n",
       "       'Comics', 'Comics,Creativity', 'Communication', 'Dating',\n",
       "       'Education,Education', 'Education', 'Education,Creativity',\n",
       "       'Education,Music and Video', 'Education,Action , Adventure',\n",
       "       'Education,Pretend Play', 'Education,Brain Games', 'Entertainment',\n",
       "       'Entertainment,Music and Video', 'Entertainment,Brain Games',\n",
       "       'Entertainment,Creativity', 'Events', 'Finance', 'Food and Drink',\n",
       "       'Health and Fitness', 'House and Home', 'Libraries and Demo',\n",
       "       'Lifestyle', 'Lifestyle,Pretend Play',\n",
       "       'Adventure,Action , Adventure', 'Arcade', 'Casual', 'Card',\n",
       "       'Casual,Pretend Play', 'Action', 'Strategy', 'Puzzle', 'Sports',\n",
       "       'Music', 'Word', 'Racing', 'Casual,Creativity',\n",
       "       'Casual,Action , Adventure', 'Simulation', 'Adventure', 'Board',\n",
       "       'Trivia', 'Role Playing', 'Simulation,Education',\n",
       "       'Action,Action , Adventure', 'Casual,Brain Games',\n",
       "       'Simulation,Action , Adventure', 'Educational,Creativity',\n",
       "       'Puzzle,Brain Games', 'Educational,Education', 'Card,Brain Games',\n",
       "       'Educational,Brain Games', 'Educational,Pretend Play',\n",
       "       'Entertainment,Education', 'Casual,Education',\n",
       "       'Music,Music and Video', 'Racing,Action , Adventure',\n",
       "       'Arcade,Pretend Play', 'Role Playing,Action , Adventure',\n",
       "       'Simulation,Pretend Play', 'Puzzle,Creativity',\n",
       "       'Sports,Action , Adventure', 'Educational,Action , Adventure',\n",
       "       'Arcade,Action , Adventure', 'Entertainment,Action , Adventure',\n",
       "       'Puzzle,Action , Adventure', 'Strategy,Action , Adventure',\n",
       "       'Music , Audio,Music and Video', 'Health and Fitness,Education',\n",
       "       'Adventure,Education', 'Board,Brain Games',\n",
       "       'Board,Action , Adventure', 'Board,Pretend Play',\n",
       "       'Casual,Music and Video', 'Role Playing,Pretend Play',\n",
       "       'Entertainment,Pretend Play',\n",
       "       'Video Players and Editors,Creativity', 'Card,Action , Adventure',\n",
       "       'Medical', 'Social', 'Shopping', 'Photography', 'Travel , Local',\n",
       "       'Travel , Local,Action , Adventure', 'Tools', 'Tools,Education',\n",
       "       'Personalization', 'Productivity', 'Parenting',\n",
       "       'Parenting,Music and Video', 'Parenting,Education',\n",
       "       'Parenting,Brain Games', 'Weather', 'Video Players and Editors',\n",
       "       'Video Players and Editors,Music and Video', 'News , Magazines',\n",
       "       'Maps and Navigation', 'Health and Fitness,Action , Adventure',\n",
       "       'Educational', 'Casino', 'Adventure,Brain Games',\n",
       "       'Trivia,Education', 'Lifestyle,Education',\n",
       "       'Books and Reference,Creativity', 'Books and Reference,Education',\n",
       "       'Puzzle,Education', 'Role Playing,Education',\n",
       "       'Role Playing,Brain Games', 'Strategy,Education',\n",
       "       'Racing,Pretend Play', 'Communication,Creativity', nan,\n",
       "       'Strategy,Creativity'], dtype=object)"
      ]
     },
     "execution_count": 442,
     "metadata": {},
     "output_type": "execute_result"
    }
   ],
   "source": [
    "# replacing '&' and ';' to ','\n",
    "playstore['genres']= playstore['genres'].str.replace('&', ',')\n",
    "playstore['genres']= playstore['genres'].str.replace(';', ',')\n",
    "playstore['genres'].unique()"
   ]
  },
  {
   "cell_type": "code",
   "execution_count": 443,
   "metadata": {},
   "outputs": [
    {
     "name": "stdout",
     "output_type": "stream",
     "text": [
      "<class 'pandas.core.frame.DataFrame'>\n",
      "Int64Index: 10358 entries, 0 to 10840\n",
      "Data columns (total 17 columns):\n",
      " #   Column           Non-Null Count  Dtype         \n",
      "---  ------           --------------  -----         \n",
      " 0   app              10358 non-null  object        \n",
      " 1   category         10358 non-null  object        \n",
      " 2   rating           8893 non-null   float64       \n",
      " 3   reviews          10358 non-null  int32         \n",
      " 4   size             8832 non-null   float64       \n",
      " 5   installs         10358 non-null  object        \n",
      " 6   type             10357 non-null  object        \n",
      " 7   price            10358 non-null  float64       \n",
      " 8   content_rating   10357 non-null  object        \n",
      " 9   genres           10357 non-null  object        \n",
      " 10  last_updated     10357 non-null  datetime64[ns]\n",
      " 11  current_version  10350 non-null  object        \n",
      " 12  android_version  10355 non-null  object        \n",
      " 13  0                10357 non-null  object        \n",
      " 14  1                962 non-null    object        \n",
      " 15  2                129 non-null    object        \n",
      " 16  3                1 non-null      object        \n",
      "dtypes: datetime64[ns](1), float64(3), int32(1), object(12)\n",
      "memory usage: 1.4+ MB\n"
     ]
    }
   ],
   "source": [
    "# splitting genre to 4 different columns\n",
    "playstore[['0', '1', '2', '3']]= playstore['genres'].str.split(',',  expand = True)\n",
    "playstore.info()"
   ]
  },
  {
   "cell_type": "code",
   "execution_count": 444,
   "metadata": {},
   "outputs": [
    {
     "name": "stdout",
     "output_type": "stream",
     "text": [
      "<class 'pandas.core.frame.DataFrame'>\n",
      "Int64Index: 10358 entries, 0 to 10840\n",
      "Data columns (total 14 columns):\n",
      " #   Column           Non-Null Count  Dtype         \n",
      "---  ------           --------------  -----         \n",
      " 0   app              10358 non-null  object        \n",
      " 1   category         10358 non-null  object        \n",
      " 2   rating           8893 non-null   float64       \n",
      " 3   reviews          10358 non-null  int32         \n",
      " 4   size             8832 non-null   float64       \n",
      " 5   installs         10358 non-null  object        \n",
      " 6   type             10357 non-null  object        \n",
      " 7   price            10358 non-null  float64       \n",
      " 8   content_rating   10357 non-null  object        \n",
      " 9   genres           10357 non-null  object        \n",
      " 10  last_updated     10357 non-null  datetime64[ns]\n",
      " 11  current_version  10350 non-null  object        \n",
      " 12  android_version  10355 non-null  object        \n",
      " 13  0                10357 non-null  object        \n",
      "dtypes: datetime64[ns](1), float64(3), int32(1), object(9)\n",
      "memory usage: 1.1+ MB\n",
      "None\n"
     ]
    }
   ],
   "source": [
    "# Taking primary genre and removing unwanted genres\n",
    "playstore.drop(columns=['1','2','3'],inplace = True)\n",
    "print(playstore.info())"
   ]
  },
  {
   "cell_type": "code",
   "execution_count": 445,
   "metadata": {},
   "outputs": [
    {
     "name": "stdout",
     "output_type": "stream",
     "text": [
      "<class 'pandas.core.frame.DataFrame'>\n",
      "Int64Index: 10358 entries, 0 to 10840\n",
      "Data columns (total 13 columns):\n",
      " #   Column           Non-Null Count  Dtype         \n",
      "---  ------           --------------  -----         \n",
      " 0   app              10358 non-null  object        \n",
      " 1   category         10358 non-null  object        \n",
      " 2   rating           8893 non-null   float64       \n",
      " 3   reviews          10358 non-null  int32         \n",
      " 4   size             8832 non-null   float64       \n",
      " 5   installs         10358 non-null  object        \n",
      " 6   type             10357 non-null  object        \n",
      " 7   price            10358 non-null  float64       \n",
      " 8   content_rating   10357 non-null  object        \n",
      " 9   last_updated     10357 non-null  datetime64[ns]\n",
      " 10  current_version  10350 non-null  object        \n",
      " 11  android_version  10355 non-null  object        \n",
      " 12  0                10357 non-null  object        \n",
      "dtypes: datetime64[ns](1), float64(3), int32(1), object(8)\n",
      "memory usage: 1.1+ MB\n",
      "None\n"
     ]
    }
   ],
   "source": [
    "#Removing only genres after taking primary genre.\n",
    "playstore.drop(columns=['genres'],inplace = True)\n",
    "print(playstore.info())"
   ]
  },
  {
   "cell_type": "code",
   "execution_count": 446,
   "metadata": {},
   "outputs": [
    {
     "name": "stdout",
     "output_type": "stream",
     "text": [
      "<class 'pandas.core.frame.DataFrame'>\n",
      "Int64Index: 10358 entries, 0 to 10840\n",
      "Data columns (total 13 columns):\n",
      " #   Column           Non-Null Count  Dtype         \n",
      "---  ------           --------------  -----         \n",
      " 0   app              10358 non-null  object        \n",
      " 1   category         10358 non-null  object        \n",
      " 2   rating           8893 non-null   float64       \n",
      " 3   reviews          10358 non-null  int32         \n",
      " 4   size             8832 non-null   float64       \n",
      " 5   installs         10358 non-null  object        \n",
      " 6   type             10357 non-null  object        \n",
      " 7   price            10358 non-null  float64       \n",
      " 8   content_rating   10357 non-null  object        \n",
      " 9   last_updated     10357 non-null  datetime64[ns]\n",
      " 10  current_version  10350 non-null  object        \n",
      " 11  android_version  10355 non-null  object        \n",
      " 12  genre            10357 non-null  object        \n",
      "dtypes: datetime64[ns](1), float64(3), int32(1), object(8)\n",
      "memory usage: 1.1+ MB\n",
      "None\n"
     ]
    }
   ],
   "source": [
    "playstore.rename({'0':'genre'},axis=1,inplace=True)\n",
    "print(playstore.info())"
   ]
  },
  {
   "cell_type": "code",
   "execution_count": 447,
   "metadata": {},
   "outputs": [
    {
     "name": "stdout",
     "output_type": "stream",
     "text": [
      "['Art and Design' 'Auto and Vehicles' 'Beauty' 'Books and Reference'\n",
      " 'Business' 'Comics' 'Communication' 'Dating' 'Education' 'Entertainment'\n",
      " 'Events' 'Finance' 'Food and Drink' 'Health and Fitness' 'House and Home'\n",
      " 'Libraries and Demo' 'Lifestyle' 'Adventure' 'Arcade' 'Casual' 'Card'\n",
      " 'Action' 'Strategy' 'Puzzle' 'Sports' 'Music' 'Word' 'Racing'\n",
      " 'Simulation' 'Board' 'Trivia' 'Role Playing' 'Educational' 'Music '\n",
      " 'Video Players and Editors' 'Medical' 'Social' 'Shopping' 'Photography'\n",
      " 'Travel ' 'Tools' 'Personalization' 'Productivity' 'Parenting' 'Weather'\n",
      " 'News ' 'Maps and Navigation' 'Casino' nan]\n"
     ]
    }
   ],
   "source": [
    "print(playstore['genre'].unique())"
   ]
  },
  {
   "cell_type": "code",
   "execution_count": 448,
   "metadata": {},
   "outputs": [],
   "source": [
    "# removing spaces for genre column\n",
    "playstore['genre']= playstore['genre'].str.strip()"
   ]
  },
  {
   "cell_type": "code",
   "execution_count": 449,
   "metadata": {},
   "outputs": [
    {
     "name": "stdout",
     "output_type": "stream",
     "text": [
      "<class 'pandas.core.frame.DataFrame'>\n",
      "Int64Index: 10358 entries, 0 to 10840\n",
      "Data columns (total 13 columns):\n",
      " #   Column           Non-Null Count  Dtype         \n",
      "---  ------           --------------  -----         \n",
      " 0   app              10358 non-null  object        \n",
      " 1   category         10358 non-null  object        \n",
      " 2   rating           8893 non-null   float64       \n",
      " 3   reviews          10358 non-null  int32         \n",
      " 4   size             8832 non-null   float64       \n",
      " 5   installs         10358 non-null  object        \n",
      " 6   type             10357 non-null  object        \n",
      " 7   price            10358 non-null  float64       \n",
      " 8   content_rating   10357 non-null  object        \n",
      " 9   last_updated     10357 non-null  datetime64[ns]\n",
      " 10  current_version  10350 non-null  object        \n",
      " 11  android_version  10355 non-null  object        \n",
      " 12  genre            10357 non-null  object        \n",
      "dtypes: datetime64[ns](1), float64(3), int32(1), object(8)\n",
      "memory usage: 1.1+ MB\n"
     ]
    }
   ],
   "source": [
    "playstore.info()"
   ]
  },
  {
   "cell_type": "code",
   "execution_count": 450,
   "metadata": {},
   "outputs": [],
   "source": [
    "# renaming of columns\n",
    "playstore.rename(columns = {\"price\":\"price_in_$\",\"size\":\"size_in_kb\"}, inplace = True)"
   ]
  },
  {
   "cell_type": "code",
   "execution_count": 451,
   "metadata": {},
   "outputs": [
    {
     "name": "stdout",
     "output_type": "stream",
     "text": [
      "<class 'pandas.core.frame.DataFrame'>\n",
      "Int64Index: 10358 entries, 0 to 10840\n",
      "Data columns (total 13 columns):\n",
      " #   Column           Non-Null Count  Dtype         \n",
      "---  ------           --------------  -----         \n",
      " 0   app              10358 non-null  object        \n",
      " 1   category         10358 non-null  object        \n",
      " 2   rating           8893 non-null   float64       \n",
      " 3   reviews          10358 non-null  int32         \n",
      " 4   size_in_kb       8832 non-null   float64       \n",
      " 5   installs         10358 non-null  object        \n",
      " 6   type             10357 non-null  object        \n",
      " 7   price_in_$       10358 non-null  float64       \n",
      " 8   content_rating   10357 non-null  object        \n",
      " 9   last_updated     10357 non-null  datetime64[ns]\n",
      " 10  current_version  10350 non-null  object        \n",
      " 11  android_version  10355 non-null  object        \n",
      " 12  genre            10357 non-null  object        \n",
      "dtypes: datetime64[ns](1), float64(3), int32(1), object(8)\n",
      "memory usage: 1.1+ MB\n",
      "None\n"
     ]
    }
   ],
   "source": [
    "print(playstore.info())"
   ]
  },
  {
   "cell_type": "code",
   "execution_count": 452,
   "metadata": {},
   "outputs": [],
   "source": [
    "# converting KB to MB by division of thousand\n",
    "playstore['size_in_kb'] = (playstore['size_in_kb']/1000).round(2)"
   ]
  },
  {
   "cell_type": "code",
   "execution_count": 453,
   "metadata": {},
   "outputs": [
    {
     "name": "stdout",
     "output_type": "stream",
     "text": [
      "<class 'pandas.core.frame.DataFrame'>\n",
      "Int64Index: 10358 entries, 0 to 10840\n",
      "Data columns (total 13 columns):\n",
      " #   Column           Non-Null Count  Dtype         \n",
      "---  ------           --------------  -----         \n",
      " 0   app              10358 non-null  object        \n",
      " 1   category         10358 non-null  object        \n",
      " 2   rating           8893 non-null   float64       \n",
      " 3   reviews          10358 non-null  int32         \n",
      " 4   size_in_MB       8832 non-null   float64       \n",
      " 5   installs         10358 non-null  object        \n",
      " 6   type             10357 non-null  object        \n",
      " 7   price_in_$       10358 non-null  float64       \n",
      " 8   content_rating   10357 non-null  object        \n",
      " 9   last_updated     10357 non-null  datetime64[ns]\n",
      " 10  current_version  10350 non-null  object        \n",
      " 11  android_version  10355 non-null  object        \n",
      " 12  genre            10357 non-null  object        \n",
      "dtypes: datetime64[ns](1), float64(3), int32(1), object(8)\n",
      "memory usage: 1.1+ MB\n",
      "None\n"
     ]
    }
   ],
   "source": [
    "#renaming column from kb to mb\n",
    "playstore.rename(columns = {\"size_in_kb\":\"size_in_MB\"},inplace=True)\n",
    "print(playstore.info())"
   ]
  },
  {
   "cell_type": "code",
   "execution_count": 454,
   "metadata": {},
   "outputs": [
    {
     "data": {
      "text/plain": [
       "array(['Free', 'Paid'], dtype=object)"
      ]
     },
     "execution_count": 454,
     "metadata": {},
     "output_type": "execute_result"
    }
   ],
   "source": [
    "playstore['type'] = playstore['type'].replace('0','Free')\n",
    "playstore['type'] = playstore['type'].replace(np.nan,'Free')\n",
    "playstore['type'].unique()"
   ]
  },
  {
   "cell_type": "code",
   "execution_count": 455,
   "metadata": {},
   "outputs": [],
   "source": [
    "# arranging the columns in appropriate order\n",
    "playstore = playstore[[\"app\",\"category\",\"genre\",\"content_rating\",\"rating\",\"reviews\",\"installs\",\"size_in_MB\",\"price_in_$\",\"type\",\"android_version\",\"current_version\",\"last_updated\"]]"
   ]
  },
  {
   "cell_type": "code",
   "execution_count": 456,
   "metadata": {},
   "outputs": [
    {
     "name": "stdout",
     "output_type": "stream",
     "text": [
      "<class 'pandas.core.frame.DataFrame'>\n",
      "Int64Index: 10358 entries, 0 to 10840\n",
      "Data columns (total 13 columns):\n",
      " #   Column           Non-Null Count  Dtype         \n",
      "---  ------           --------------  -----         \n",
      " 0   app              10358 non-null  object        \n",
      " 1   category         10358 non-null  object        \n",
      " 2   genre            10357 non-null  object        \n",
      " 3   content_rating   10357 non-null  object        \n",
      " 4   rating           8893 non-null   float64       \n",
      " 5   reviews          10358 non-null  int32         \n",
      " 6   installs         10358 non-null  object        \n",
      " 7   size_in_MB       8832 non-null   float64       \n",
      " 8   price_in_$       10358 non-null  float64       \n",
      " 9   type             10358 non-null  object        \n",
      " 10  android_version  10355 non-null  object        \n",
      " 11  current_version  10350 non-null  object        \n",
      " 12  last_updated     10357 non-null  datetime64[ns]\n",
      "dtypes: datetime64[ns](1), float64(3), int32(1), object(8)\n",
      "memory usage: 1.1+ MB\n"
     ]
    }
   ],
   "source": [
    "#Replaced inappropriate rating with its original rating in playstore.\n",
    "playstore['rating'] = playstore['rating'].replace(19,2.7)\n",
    "playstore.info()"
   ]
  },
  {
   "cell_type": "code",
   "execution_count": 457,
   "metadata": {},
   "outputs": [],
   "source": [
    "playstore['category']=playstore['category'].replace('1.9',np.nan)"
   ]
  },
  {
   "cell_type": "code",
   "execution_count": 458,
   "metadata": {},
   "outputs": [
    {
     "name": "stdout",
     "output_type": "stream",
     "text": [
      "<class 'pandas.core.frame.DataFrame'>\n",
      "Int64Index: 9660 entries, 0 to 10840\n",
      "Data columns (total 13 columns):\n",
      " #   Column           Non-Null Count  Dtype         \n",
      "---  ------           --------------  -----         \n",
      " 0   app              9660 non-null   object        \n",
      " 1   category         9659 non-null   object        \n",
      " 2   genre            9659 non-null   object        \n",
      " 3   content_rating   9659 non-null   object        \n",
      " 4   rating           8197 non-null   float64       \n",
      " 5   reviews          9660 non-null   int32         \n",
      " 6   installs         9660 non-null   object        \n",
      " 7   size_in_MB       8433 non-null   float64       \n",
      " 8   price_in_$       9660 non-null   float64       \n",
      " 9   type             9660 non-null   object        \n",
      " 10  android_version  9657 non-null   object        \n",
      " 11  current_version  9652 non-null   object        \n",
      " 12  last_updated     9659 non-null   datetime64[ns]\n",
      "dtypes: datetime64[ns](1), float64(3), int32(1), object(8)\n",
      "memory usage: 1018.8+ KB\n",
      "None\n"
     ]
    }
   ],
   "source": [
    "playstore.drop_duplicates(subset = ['app'],keep='first',inplace = True)\n",
    "print(playstore.info())"
   ]
  },
  {
   "cell_type": "code",
   "execution_count": 459,
   "metadata": {},
   "outputs": [],
   "source": [
    "# exporting data to a csv file to local drive\n",
    "playstore.to_csv(\"C://Users//Public//Documents//playstore_modified_v3.csv\",index=False)"
   ]
  },
  {
   "cell_type": "code",
   "execution_count": null,
   "metadata": {},
   "outputs": [],
   "source": []
  }
 ],
 "metadata": {
  "interpreter": {
   "hash": "11719158a86894d7808c2c8a635753faff182b16ee77c15d5c4e038f9341cbce"
  },
  "kernelspec": {
   "display_name": "Python 3.9.10 64-bit (windows store)",
   "language": "python",
   "name": "python3"
  },
  "language_info": {
   "codemirror_mode": {
    "name": "ipython",
    "version": 3
   },
   "file_extension": ".py",
   "mimetype": "text/x-python",
   "name": "python",
   "nbconvert_exporter": "python",
   "pygments_lexer": "ipython3",
   "version": "3.9.7"
  },
  "orig_nbformat": 4
 },
 "nbformat": 4,
 "nbformat_minor": 2
}
